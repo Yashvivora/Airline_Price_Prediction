{
  "nbformat": 4,
  "nbformat_minor": 0,
  "metadata": {
    "colab": {
      "provenance": []
    },
    "kernelspec": {
      "name": "python3",
      "display_name": "Python 3"
    },
    "language_info": {
      "name": "python"
    }
  },
  "cells": [
    {
      "cell_type": "markdown",
      "source": [
        "1)A)"
      ],
      "metadata": {
        "id": "SkRid9pgQU4d"
      }
    },
    {
      "cell_type": "markdown",
      "source": [
        "Using an Artificial Neural Network,I predicted the flight price with 82 percent R Square value."
      ],
      "metadata": {
        "id": "gLrcIgqOF3wW"
      }
    },
    {
      "cell_type": "code",
      "source": [
        "#Importing important libraries\n",
        "import numpy as np\n",
        "import pandas as pd\n",
        "import matplotlib.pyplot as plt\n",
        "import seaborn as sns\n",
        "from tensorflow.keras.models import Sequential\n",
        "from tensorflow.keras.layers import Dense\n",
        "from tensorflow.keras.layers import Dropout\n",
        "from sklearn.model_selection import train_test_split\n",
        "from sklearn.preprocessing import StandardScaler\n",
        "from tensorflow.keras.optimizers import Adam\n",
        "from sklearn.model_selection import KFold\n",
        "from keras.regularizers import l2\n",
        "from sklearn.metrics import r2_score\n",
        "from keras.callbacks import EarlyStopping\n",
        "%matplotlib inline"
      ],
      "metadata": {
        "id": "J87QI04lQXe7"
      },
      "execution_count": 3,
      "outputs": []
    },
    {
      "cell_type": "code",
      "source": [
        "df=pd.read_excel('/content/drive/MyDrive/Projects/Airline_Price_Prediction_Neural_Network/Data (3).xlsx')\n",
        "df.head()"
      ],
      "metadata": {
        "id": "p7HIXO9eQnzA",
        "colab": {
          "base_uri": "https://localhost:8080/",
          "height": 206
        },
        "outputId": "3cff34bc-d8a4-477d-f314-540c14d84e65"
      },
      "execution_count": 4,
      "outputs": [
        {
          "output_type": "execute_result",
          "data": {
            "text/plain": [
              "       Airline Date_of_Journey    Source Destination                  Route  \\\n",
              "0       IndiGo      24/03/2019  Banglore   New Delhi              BLR → DEL   \n",
              "1    Air India       1/05/2019   Kolkata    Banglore  CCU → IXR → BBI → BLR   \n",
              "2  Jet Airways       9/06/2019     Delhi      Cochin  DEL → LKO → BOM → COK   \n",
              "3       IndiGo      12/05/2019   Kolkata    Banglore        CCU → NAG → BLR   \n",
              "4       IndiGo      01/03/2019  Banglore   New Delhi        BLR → NAG → DEL   \n",
              "\n",
              "  Dep_Time  Arrival_Time Duration Total_Stops Additional_Info  Price  \n",
              "0    22:20  01:10 22 Mar   2h 50m    non-stop         No info   3897  \n",
              "1    05:50         13:15   7h 25m     2 stops         No info   7662  \n",
              "2    09:25  04:25 10 Jun      19h     2 stops         No info  13882  \n",
              "3    18:05         23:30   5h 25m      1 stop         No info   6218  \n",
              "4    16:50         21:35   4h 45m      1 stop         No info  13302  "
            ],
            "text/html": [
              "\n",
              "  <div id=\"df-db896da3-e844-427f-a7d4-4a1294028151\" class=\"colab-df-container\">\n",
              "    <div>\n",
              "<style scoped>\n",
              "    .dataframe tbody tr th:only-of-type {\n",
              "        vertical-align: middle;\n",
              "    }\n",
              "\n",
              "    .dataframe tbody tr th {\n",
              "        vertical-align: top;\n",
              "    }\n",
              "\n",
              "    .dataframe thead th {\n",
              "        text-align: right;\n",
              "    }\n",
              "</style>\n",
              "<table border=\"1\" class=\"dataframe\">\n",
              "  <thead>\n",
              "    <tr style=\"text-align: right;\">\n",
              "      <th></th>\n",
              "      <th>Airline</th>\n",
              "      <th>Date_of_Journey</th>\n",
              "      <th>Source</th>\n",
              "      <th>Destination</th>\n",
              "      <th>Route</th>\n",
              "      <th>Dep_Time</th>\n",
              "      <th>Arrival_Time</th>\n",
              "      <th>Duration</th>\n",
              "      <th>Total_Stops</th>\n",
              "      <th>Additional_Info</th>\n",
              "      <th>Price</th>\n",
              "    </tr>\n",
              "  </thead>\n",
              "  <tbody>\n",
              "    <tr>\n",
              "      <th>0</th>\n",
              "      <td>IndiGo</td>\n",
              "      <td>24/03/2019</td>\n",
              "      <td>Banglore</td>\n",
              "      <td>New Delhi</td>\n",
              "      <td>BLR → DEL</td>\n",
              "      <td>22:20</td>\n",
              "      <td>01:10 22 Mar</td>\n",
              "      <td>2h 50m</td>\n",
              "      <td>non-stop</td>\n",
              "      <td>No info</td>\n",
              "      <td>3897</td>\n",
              "    </tr>\n",
              "    <tr>\n",
              "      <th>1</th>\n",
              "      <td>Air India</td>\n",
              "      <td>1/05/2019</td>\n",
              "      <td>Kolkata</td>\n",
              "      <td>Banglore</td>\n",
              "      <td>CCU → IXR → BBI → BLR</td>\n",
              "      <td>05:50</td>\n",
              "      <td>13:15</td>\n",
              "      <td>7h 25m</td>\n",
              "      <td>2 stops</td>\n",
              "      <td>No info</td>\n",
              "      <td>7662</td>\n",
              "    </tr>\n",
              "    <tr>\n",
              "      <th>2</th>\n",
              "      <td>Jet Airways</td>\n",
              "      <td>9/06/2019</td>\n",
              "      <td>Delhi</td>\n",
              "      <td>Cochin</td>\n",
              "      <td>DEL → LKO → BOM → COK</td>\n",
              "      <td>09:25</td>\n",
              "      <td>04:25 10 Jun</td>\n",
              "      <td>19h</td>\n",
              "      <td>2 stops</td>\n",
              "      <td>No info</td>\n",
              "      <td>13882</td>\n",
              "    </tr>\n",
              "    <tr>\n",
              "      <th>3</th>\n",
              "      <td>IndiGo</td>\n",
              "      <td>12/05/2019</td>\n",
              "      <td>Kolkata</td>\n",
              "      <td>Banglore</td>\n",
              "      <td>CCU → NAG → BLR</td>\n",
              "      <td>18:05</td>\n",
              "      <td>23:30</td>\n",
              "      <td>5h 25m</td>\n",
              "      <td>1 stop</td>\n",
              "      <td>No info</td>\n",
              "      <td>6218</td>\n",
              "    </tr>\n",
              "    <tr>\n",
              "      <th>4</th>\n",
              "      <td>IndiGo</td>\n",
              "      <td>01/03/2019</td>\n",
              "      <td>Banglore</td>\n",
              "      <td>New Delhi</td>\n",
              "      <td>BLR → NAG → DEL</td>\n",
              "      <td>16:50</td>\n",
              "      <td>21:35</td>\n",
              "      <td>4h 45m</td>\n",
              "      <td>1 stop</td>\n",
              "      <td>No info</td>\n",
              "      <td>13302</td>\n",
              "    </tr>\n",
              "  </tbody>\n",
              "</table>\n",
              "</div>\n",
              "    <div class=\"colab-df-buttons\">\n",
              "\n",
              "  <div class=\"colab-df-container\">\n",
              "    <button class=\"colab-df-convert\" onclick=\"convertToInteractive('df-db896da3-e844-427f-a7d4-4a1294028151')\"\n",
              "            title=\"Convert this dataframe to an interactive table.\"\n",
              "            style=\"display:none;\">\n",
              "\n",
              "  <svg xmlns=\"http://www.w3.org/2000/svg\" height=\"24px\" viewBox=\"0 -960 960 960\">\n",
              "    <path d=\"M120-120v-720h720v720H120Zm60-500h600v-160H180v160Zm220 220h160v-160H400v160Zm0 220h160v-160H400v160ZM180-400h160v-160H180v160Zm440 0h160v-160H620v160ZM180-180h160v-160H180v160Zm440 0h160v-160H620v160Z\"/>\n",
              "  </svg>\n",
              "    </button>\n",
              "\n",
              "  <style>\n",
              "    .colab-df-container {\n",
              "      display:flex;\n",
              "      gap: 12px;\n",
              "    }\n",
              "\n",
              "    .colab-df-convert {\n",
              "      background-color: #E8F0FE;\n",
              "      border: none;\n",
              "      border-radius: 50%;\n",
              "      cursor: pointer;\n",
              "      display: none;\n",
              "      fill: #1967D2;\n",
              "      height: 32px;\n",
              "      padding: 0 0 0 0;\n",
              "      width: 32px;\n",
              "    }\n",
              "\n",
              "    .colab-df-convert:hover {\n",
              "      background-color: #E2EBFA;\n",
              "      box-shadow: 0px 1px 2px rgba(60, 64, 67, 0.3), 0px 1px 3px 1px rgba(60, 64, 67, 0.15);\n",
              "      fill: #174EA6;\n",
              "    }\n",
              "\n",
              "    .colab-df-buttons div {\n",
              "      margin-bottom: 4px;\n",
              "    }\n",
              "\n",
              "    [theme=dark] .colab-df-convert {\n",
              "      background-color: #3B4455;\n",
              "      fill: #D2E3FC;\n",
              "    }\n",
              "\n",
              "    [theme=dark] .colab-df-convert:hover {\n",
              "      background-color: #434B5C;\n",
              "      box-shadow: 0px 1px 3px 1px rgba(0, 0, 0, 0.15);\n",
              "      filter: drop-shadow(0px 1px 2px rgba(0, 0, 0, 0.3));\n",
              "      fill: #FFFFFF;\n",
              "    }\n",
              "  </style>\n",
              "\n",
              "    <script>\n",
              "      const buttonEl =\n",
              "        document.querySelector('#df-db896da3-e844-427f-a7d4-4a1294028151 button.colab-df-convert');\n",
              "      buttonEl.style.display =\n",
              "        google.colab.kernel.accessAllowed ? 'block' : 'none';\n",
              "\n",
              "      async function convertToInteractive(key) {\n",
              "        const element = document.querySelector('#df-db896da3-e844-427f-a7d4-4a1294028151');\n",
              "        const dataTable =\n",
              "          await google.colab.kernel.invokeFunction('convertToInteractive',\n",
              "                                                    [key], {});\n",
              "        if (!dataTable) return;\n",
              "\n",
              "        const docLinkHtml = 'Like what you see? Visit the ' +\n",
              "          '<a target=\"_blank\" href=https://colab.research.google.com/notebooks/data_table.ipynb>data table notebook</a>'\n",
              "          + ' to learn more about interactive tables.';\n",
              "        element.innerHTML = '';\n",
              "        dataTable['output_type'] = 'display_data';\n",
              "        await google.colab.output.renderOutput(dataTable, element);\n",
              "        const docLink = document.createElement('div');\n",
              "        docLink.innerHTML = docLinkHtml;\n",
              "        element.appendChild(docLink);\n",
              "      }\n",
              "    </script>\n",
              "  </div>\n",
              "\n",
              "\n",
              "<div id=\"df-b1811a7b-3349-4cdc-86b5-dbc2f9e1e2d6\">\n",
              "  <button class=\"colab-df-quickchart\" onclick=\"quickchart('df-b1811a7b-3349-4cdc-86b5-dbc2f9e1e2d6')\"\n",
              "            title=\"Suggest charts\"\n",
              "            style=\"display:none;\">\n",
              "\n",
              "<svg xmlns=\"http://www.w3.org/2000/svg\" height=\"24px\"viewBox=\"0 0 24 24\"\n",
              "     width=\"24px\">\n",
              "    <g>\n",
              "        <path d=\"M19 3H5c-1.1 0-2 .9-2 2v14c0 1.1.9 2 2 2h14c1.1 0 2-.9 2-2V5c0-1.1-.9-2-2-2zM9 17H7v-7h2v7zm4 0h-2V7h2v10zm4 0h-2v-4h2v4z\"/>\n",
              "    </g>\n",
              "</svg>\n",
              "  </button>\n",
              "\n",
              "<style>\n",
              "  .colab-df-quickchart {\n",
              "      --bg-color: #E8F0FE;\n",
              "      --fill-color: #1967D2;\n",
              "      --hover-bg-color: #E2EBFA;\n",
              "      --hover-fill-color: #174EA6;\n",
              "      --disabled-fill-color: #AAA;\n",
              "      --disabled-bg-color: #DDD;\n",
              "  }\n",
              "\n",
              "  [theme=dark] .colab-df-quickchart {\n",
              "      --bg-color: #3B4455;\n",
              "      --fill-color: #D2E3FC;\n",
              "      --hover-bg-color: #434B5C;\n",
              "      --hover-fill-color: #FFFFFF;\n",
              "      --disabled-bg-color: #3B4455;\n",
              "      --disabled-fill-color: #666;\n",
              "  }\n",
              "\n",
              "  .colab-df-quickchart {\n",
              "    background-color: var(--bg-color);\n",
              "    border: none;\n",
              "    border-radius: 50%;\n",
              "    cursor: pointer;\n",
              "    display: none;\n",
              "    fill: var(--fill-color);\n",
              "    height: 32px;\n",
              "    padding: 0;\n",
              "    width: 32px;\n",
              "  }\n",
              "\n",
              "  .colab-df-quickchart:hover {\n",
              "    background-color: var(--hover-bg-color);\n",
              "    box-shadow: 0 1px 2px rgba(60, 64, 67, 0.3), 0 1px 3px 1px rgba(60, 64, 67, 0.15);\n",
              "    fill: var(--button-hover-fill-color);\n",
              "  }\n",
              "\n",
              "  .colab-df-quickchart-complete:disabled,\n",
              "  .colab-df-quickchart-complete:disabled:hover {\n",
              "    background-color: var(--disabled-bg-color);\n",
              "    fill: var(--disabled-fill-color);\n",
              "    box-shadow: none;\n",
              "  }\n",
              "\n",
              "  .colab-df-spinner {\n",
              "    border: 2px solid var(--fill-color);\n",
              "    border-color: transparent;\n",
              "    border-bottom-color: var(--fill-color);\n",
              "    animation:\n",
              "      spin 1s steps(1) infinite;\n",
              "  }\n",
              "\n",
              "  @keyframes spin {\n",
              "    0% {\n",
              "      border-color: transparent;\n",
              "      border-bottom-color: var(--fill-color);\n",
              "      border-left-color: var(--fill-color);\n",
              "    }\n",
              "    20% {\n",
              "      border-color: transparent;\n",
              "      border-left-color: var(--fill-color);\n",
              "      border-top-color: var(--fill-color);\n",
              "    }\n",
              "    30% {\n",
              "      border-color: transparent;\n",
              "      border-left-color: var(--fill-color);\n",
              "      border-top-color: var(--fill-color);\n",
              "      border-right-color: var(--fill-color);\n",
              "    }\n",
              "    40% {\n",
              "      border-color: transparent;\n",
              "      border-right-color: var(--fill-color);\n",
              "      border-top-color: var(--fill-color);\n",
              "    }\n",
              "    60% {\n",
              "      border-color: transparent;\n",
              "      border-right-color: var(--fill-color);\n",
              "    }\n",
              "    80% {\n",
              "      border-color: transparent;\n",
              "      border-right-color: var(--fill-color);\n",
              "      border-bottom-color: var(--fill-color);\n",
              "    }\n",
              "    90% {\n",
              "      border-color: transparent;\n",
              "      border-bottom-color: var(--fill-color);\n",
              "    }\n",
              "  }\n",
              "</style>\n",
              "\n",
              "  <script>\n",
              "    async function quickchart(key) {\n",
              "      const quickchartButtonEl =\n",
              "        document.querySelector('#' + key + ' button');\n",
              "      quickchartButtonEl.disabled = true;  // To prevent multiple clicks.\n",
              "      quickchartButtonEl.classList.add('colab-df-spinner');\n",
              "      try {\n",
              "        const charts = await google.colab.kernel.invokeFunction(\n",
              "            'suggestCharts', [key], {});\n",
              "      } catch (error) {\n",
              "        console.error('Error during call to suggestCharts:', error);\n",
              "      }\n",
              "      quickchartButtonEl.classList.remove('colab-df-spinner');\n",
              "      quickchartButtonEl.classList.add('colab-df-quickchart-complete');\n",
              "    }\n",
              "    (() => {\n",
              "      let quickchartButtonEl =\n",
              "        document.querySelector('#df-b1811a7b-3349-4cdc-86b5-dbc2f9e1e2d6 button');\n",
              "      quickchartButtonEl.style.display =\n",
              "        google.colab.kernel.accessAllowed ? 'block' : 'none';\n",
              "    })();\n",
              "  </script>\n",
              "</div>\n",
              "    </div>\n",
              "  </div>\n"
            ],
            "application/vnd.google.colaboratory.intrinsic+json": {
              "type": "dataframe",
              "variable_name": "df",
              "summary": "{\n  \"name\": \"df\",\n  \"rows\": 10682,\n  \"fields\": [\n    {\n      \"column\": \"Airline\",\n      \"properties\": {\n        \"dtype\": \"category\",\n        \"num_unique_values\": 11,\n        \"samples\": [\n          \"GoAir\",\n          \"IndiGo\",\n          \"Jet Airways Business\"\n        ],\n        \"semantic_type\": \"\",\n        \"description\": \"\"\n      }\n    },\n    {\n      \"column\": \"Date_of_Journey\",\n      \"properties\": {\n        \"dtype\": \"object\",\n        \"num_unique_values\": 44,\n        \"samples\": [\n          \"27/03/2019\",\n          \"27/06/2019\",\n          \"21/05/2019\"\n        ],\n        \"semantic_type\": \"\",\n        \"description\": \"\"\n      }\n    },\n    {\n      \"column\": \"Source\",\n      \"properties\": {\n        \"dtype\": \"category\",\n        \"num_unique_values\": 5,\n        \"samples\": [\n          \"Kolkata\",\n          \"Mumbai\",\n          \"Delhi\"\n        ],\n        \"semantic_type\": \"\",\n        \"description\": \"\"\n      }\n    },\n    {\n      \"column\": \"Destination\",\n      \"properties\": {\n        \"dtype\": \"category\",\n        \"num_unique_values\": 6,\n        \"samples\": [\n          \"New Delhi\",\n          \"Banglore\",\n          \"Hyderabad\"\n        ],\n        \"semantic_type\": \"\",\n        \"description\": \"\"\n      }\n    },\n    {\n      \"column\": \"Route\",\n      \"properties\": {\n        \"dtype\": \"category\",\n        \"num_unique_values\": 127,\n        \"samples\": [\n          \"DEL \\u2192 MAA \\u2192 COK\",\n          \"BOM \\u2192 UDR \\u2192 DEL \\u2192 HYD\",\n          \"BLR \\u2192 CCU \\u2192 BBI \\u2192 HYD \\u2192 DEL\"\n        ],\n        \"semantic_type\": \"\",\n        \"description\": \"\"\n      }\n    },\n    {\n      \"column\": \"Dep_Time\",\n      \"properties\": {\n        \"dtype\": \"object\",\n        \"num_unique_values\": 222,\n        \"samples\": [\n          \"08:35\",\n          \"04:50\",\n          \"16:40\"\n        ],\n        \"semantic_type\": \"\",\n        \"description\": \"\"\n      }\n    },\n    {\n      \"column\": \"Arrival_Time\",\n      \"properties\": {\n        \"dtype\": \"object\",\n        \"num_unique_values\": 1343,\n        \"samples\": [\n          \"18:00 07 Jun\",\n          \"15:05 07 May\",\n          \"09:45 22 May\"\n        ],\n        \"semantic_type\": \"\",\n        \"description\": \"\"\n      }\n    },\n    {\n      \"column\": \"Duration\",\n      \"properties\": {\n        \"dtype\": \"category\",\n        \"num_unique_values\": 368,\n        \"samples\": [\n          \"4h 20m\",\n          \"11h 55m\",\n          \"4h 30m\"\n        ],\n        \"semantic_type\": \"\",\n        \"description\": \"\"\n      }\n    },\n    {\n      \"column\": \"Total_Stops\",\n      \"properties\": {\n        \"dtype\": \"category\",\n        \"num_unique_values\": 5,\n        \"samples\": [\n          \"2 stops\",\n          \"4 stops\",\n          \"1 stop\"\n        ],\n        \"semantic_type\": \"\",\n        \"description\": \"\"\n      }\n    },\n    {\n      \"column\": \"Additional_Info\",\n      \"properties\": {\n        \"dtype\": \"category\",\n        \"num_unique_values\": 10,\n        \"samples\": [\n          \"Red-eye flight\",\n          \"In-flight meal not included\",\n          \"1 Long layover\"\n        ],\n        \"semantic_type\": \"\",\n        \"description\": \"\"\n      }\n    },\n    {\n      \"column\": \"Price\",\n      \"properties\": {\n        \"dtype\": \"number\",\n        \"std\": 4611,\n        \"min\": 1759,\n        \"max\": 79512,\n        \"num_unique_values\": 1869,\n        \"samples\": [\n          10810,\n          4588,\n          10056\n        ],\n        \"semantic_type\": \"\",\n        \"description\": \"\"\n      }\n    }\n  ]\n}"
            }
          },
          "metadata": {},
          "execution_count": 4
        }
      ]
    },
    {
      "cell_type": "markdown",
      "source": [
        "1)B)"
      ],
      "metadata": {
        "id": "NAM_FlcpwtZf"
      }
    },
    {
      "cell_type": "code",
      "source": [
        "print('Column name\\tMissing Value Count\\tMissing Value %')\n",
        "for i in df.columns:\n",
        "  print(i,'\\t',df[i].isnull().sum(),'\\t',(df[i].isnull().sum()/len(df))*100)\n",
        "#Route and Total Stops columns have only 1 missing value"
      ],
      "metadata": {
        "id": "np4gIJAPwvV-",
        "colab": {
          "base_uri": "https://localhost:8080/"
        },
        "outputId": "26a33027-c3cd-4eca-bcf0-41280d04973a"
      },
      "execution_count": 5,
      "outputs": [
        {
          "output_type": "stream",
          "name": "stdout",
          "text": [
            "Column name\tMissing Value Count\tMissing Value %\n",
            "Airline \t 0 \t 0.0\n",
            "Date_of_Journey \t 0 \t 0.0\n",
            "Source \t 0 \t 0.0\n",
            "Destination \t 0 \t 0.0\n",
            "Route \t 1 \t 0.009361542782250515\n",
            "Dep_Time \t 0 \t 0.0\n",
            "Arrival_Time \t 0 \t 0.0\n",
            "Duration \t 0 \t 0.0\n",
            "Total_Stops \t 1 \t 0.009361542782250515\n",
            "Additional_Info \t 0 \t 0.0\n",
            "Price \t 0 \t 0.0\n"
          ]
        }
      ]
    },
    {
      "cell_type": "code",
      "source": [
        "print(df[df['Route'].isnull()])"
      ],
      "metadata": {
        "id": "IOp-C_kh5uRb",
        "colab": {
          "base_uri": "https://localhost:8080/"
        },
        "outputId": "5c98f804-e310-427f-ea7b-8770b011e2eb"
      },
      "execution_count": 6,
      "outputs": [
        {
          "output_type": "stream",
          "name": "stdout",
          "text": [
            "        Airline Date_of_Journey Source Destination Route Dep_Time  \\\n",
            "9038  Air India       6/05/2019  Delhi      Cochin   NaN    09:45   \n",
            "\n",
            "      Arrival_Time Duration Total_Stops Additional_Info  Price  \n",
            "9038  09:25 07 May  23h 40m         NaN         No info   7480  \n"
          ]
        }
      ]
    },
    {
      "cell_type": "code",
      "source": [
        "print(df[df['Total_Stops'].isnull()])"
      ],
      "metadata": {
        "id": "ndgjB2tx6kD0",
        "colab": {
          "base_uri": "https://localhost:8080/"
        },
        "outputId": "56f82930-4dde-49c5-e9f0-26974b494e80"
      },
      "execution_count": 7,
      "outputs": [
        {
          "output_type": "stream",
          "name": "stdout",
          "text": [
            "        Airline Date_of_Journey Source Destination Route Dep_Time  \\\n",
            "9038  Air India       6/05/2019  Delhi      Cochin   NaN    09:45   \n",
            "\n",
            "      Arrival_Time Duration Total_Stops Additional_Info  Price  \n",
            "9038  09:25 07 May  23h 40m         NaN         No info   7480  \n"
          ]
        }
      ]
    },
    {
      "cell_type": "code",
      "source": [
        "#Both Route and Total_Stops have null values in the same row.\n",
        "#So we can drop this\n",
        "df.dropna(inplace=True)"
      ],
      "metadata": {
        "id": "erblTXxu6wyZ"
      },
      "execution_count": 8,
      "outputs": []
    },
    {
      "cell_type": "code",
      "source": [
        "df['Additional_Info'].value_counts()"
      ],
      "metadata": {
        "id": "49e8-LXn7BGY",
        "colab": {
          "base_uri": "https://localhost:8080/",
          "height": 429
        },
        "outputId": "d4cd81c0-0edd-4a1c-b31d-bea942639c1a"
      },
      "execution_count": 9,
      "outputs": [
        {
          "output_type": "execute_result",
          "data": {
            "text/plain": [
              "Additional_Info\n",
              "No info                         8343\n",
              "In-flight meal not included     1982\n",
              "No check-in baggage included     320\n",
              "1 Long layover                    19\n",
              "Change airports                    7\n",
              "Business class                     4\n",
              "No Info                            3\n",
              "1 Short layover                    1\n",
              "Red-eye flight                     1\n",
              "2 Long layover                     1\n",
              "Name: count, dtype: int64"
            ],
            "text/html": [
              "<div>\n",
              "<style scoped>\n",
              "    .dataframe tbody tr th:only-of-type {\n",
              "        vertical-align: middle;\n",
              "    }\n",
              "\n",
              "    .dataframe tbody tr th {\n",
              "        vertical-align: top;\n",
              "    }\n",
              "\n",
              "    .dataframe thead th {\n",
              "        text-align: right;\n",
              "    }\n",
              "</style>\n",
              "<table border=\"1\" class=\"dataframe\">\n",
              "  <thead>\n",
              "    <tr style=\"text-align: right;\">\n",
              "      <th></th>\n",
              "      <th>count</th>\n",
              "    </tr>\n",
              "    <tr>\n",
              "      <th>Additional_Info</th>\n",
              "      <th></th>\n",
              "    </tr>\n",
              "  </thead>\n",
              "  <tbody>\n",
              "    <tr>\n",
              "      <th>No info</th>\n",
              "      <td>8343</td>\n",
              "    </tr>\n",
              "    <tr>\n",
              "      <th>In-flight meal not included</th>\n",
              "      <td>1982</td>\n",
              "    </tr>\n",
              "    <tr>\n",
              "      <th>No check-in baggage included</th>\n",
              "      <td>320</td>\n",
              "    </tr>\n",
              "    <tr>\n",
              "      <th>1 Long layover</th>\n",
              "      <td>19</td>\n",
              "    </tr>\n",
              "    <tr>\n",
              "      <th>Change airports</th>\n",
              "      <td>7</td>\n",
              "    </tr>\n",
              "    <tr>\n",
              "      <th>Business class</th>\n",
              "      <td>4</td>\n",
              "    </tr>\n",
              "    <tr>\n",
              "      <th>No Info</th>\n",
              "      <td>3</td>\n",
              "    </tr>\n",
              "    <tr>\n",
              "      <th>1 Short layover</th>\n",
              "      <td>1</td>\n",
              "    </tr>\n",
              "    <tr>\n",
              "      <th>Red-eye flight</th>\n",
              "      <td>1</td>\n",
              "    </tr>\n",
              "    <tr>\n",
              "      <th>2 Long layover</th>\n",
              "      <td>1</td>\n",
              "    </tr>\n",
              "  </tbody>\n",
              "</table>\n",
              "</div><br><label><b>dtype:</b> int64</label>"
            ]
          },
          "metadata": {},
          "execution_count": 9
        }
      ]
    },
    {
      "cell_type": "code",
      "source": [
        "df['Additional_Info']=df['Additional_Info'].replace('No Info','No info')\n",
        "# df['Additional_Info'].value_counts()"
      ],
      "metadata": {
        "id": "V1IixSx381hy"
      },
      "execution_count": 10,
      "outputs": []
    },
    {
      "cell_type": "code",
      "source": [
        "df['Source'].value_counts()"
      ],
      "metadata": {
        "id": "rjZD866E8Cil",
        "colab": {
          "base_uri": "https://localhost:8080/",
          "height": 272
        },
        "outputId": "fe5f169f-9f00-47d9-c689-a2936971222e"
      },
      "execution_count": 11,
      "outputs": [
        {
          "output_type": "execute_result",
          "data": {
            "text/plain": [
              "Source\n",
              "Delhi       4536\n",
              "Kolkata     2871\n",
              "Banglore    2197\n",
              "Mumbai       696\n",
              "Chennai      381\n",
              "Name: count, dtype: int64"
            ],
            "text/html": [
              "<div>\n",
              "<style scoped>\n",
              "    .dataframe tbody tr th:only-of-type {\n",
              "        vertical-align: middle;\n",
              "    }\n",
              "\n",
              "    .dataframe tbody tr th {\n",
              "        vertical-align: top;\n",
              "    }\n",
              "\n",
              "    .dataframe thead th {\n",
              "        text-align: right;\n",
              "    }\n",
              "</style>\n",
              "<table border=\"1\" class=\"dataframe\">\n",
              "  <thead>\n",
              "    <tr style=\"text-align: right;\">\n",
              "      <th></th>\n",
              "      <th>count</th>\n",
              "    </tr>\n",
              "    <tr>\n",
              "      <th>Source</th>\n",
              "      <th></th>\n",
              "    </tr>\n",
              "  </thead>\n",
              "  <tbody>\n",
              "    <tr>\n",
              "      <th>Delhi</th>\n",
              "      <td>4536</td>\n",
              "    </tr>\n",
              "    <tr>\n",
              "      <th>Kolkata</th>\n",
              "      <td>2871</td>\n",
              "    </tr>\n",
              "    <tr>\n",
              "      <th>Banglore</th>\n",
              "      <td>2197</td>\n",
              "    </tr>\n",
              "    <tr>\n",
              "      <th>Mumbai</th>\n",
              "      <td>696</td>\n",
              "    </tr>\n",
              "    <tr>\n",
              "      <th>Chennai</th>\n",
              "      <td>381</td>\n",
              "    </tr>\n",
              "  </tbody>\n",
              "</table>\n",
              "</div><br><label><b>dtype:</b> int64</label>"
            ]
          },
          "metadata": {},
          "execution_count": 11
        }
      ]
    },
    {
      "cell_type": "code",
      "source": [
        "df['Destination'].value_counts()"
      ],
      "metadata": {
        "id": "FalU3S_T8Oop",
        "colab": {
          "base_uri": "https://localhost:8080/",
          "height": 304
        },
        "outputId": "c450cf42-5cc4-4e02-c1ca-ed1cef5bdcd5"
      },
      "execution_count": 12,
      "outputs": [
        {
          "output_type": "execute_result",
          "data": {
            "text/plain": [
              "Destination\n",
              "Cochin       4536\n",
              "Banglore     2871\n",
              "Delhi        1265\n",
              "New Delhi     932\n",
              "Hyderabad     696\n",
              "Kolkata       381\n",
              "Name: count, dtype: int64"
            ],
            "text/html": [
              "<div>\n",
              "<style scoped>\n",
              "    .dataframe tbody tr th:only-of-type {\n",
              "        vertical-align: middle;\n",
              "    }\n",
              "\n",
              "    .dataframe tbody tr th {\n",
              "        vertical-align: top;\n",
              "    }\n",
              "\n",
              "    .dataframe thead th {\n",
              "        text-align: right;\n",
              "    }\n",
              "</style>\n",
              "<table border=\"1\" class=\"dataframe\">\n",
              "  <thead>\n",
              "    <tr style=\"text-align: right;\">\n",
              "      <th></th>\n",
              "      <th>count</th>\n",
              "    </tr>\n",
              "    <tr>\n",
              "      <th>Destination</th>\n",
              "      <th></th>\n",
              "    </tr>\n",
              "  </thead>\n",
              "  <tbody>\n",
              "    <tr>\n",
              "      <th>Cochin</th>\n",
              "      <td>4536</td>\n",
              "    </tr>\n",
              "    <tr>\n",
              "      <th>Banglore</th>\n",
              "      <td>2871</td>\n",
              "    </tr>\n",
              "    <tr>\n",
              "      <th>Delhi</th>\n",
              "      <td>1265</td>\n",
              "    </tr>\n",
              "    <tr>\n",
              "      <th>New Delhi</th>\n",
              "      <td>932</td>\n",
              "    </tr>\n",
              "    <tr>\n",
              "      <th>Hyderabad</th>\n",
              "      <td>696</td>\n",
              "    </tr>\n",
              "    <tr>\n",
              "      <th>Kolkata</th>\n",
              "      <td>381</td>\n",
              "    </tr>\n",
              "  </tbody>\n",
              "</table>\n",
              "</div><br><label><b>dtype:</b> int64</label>"
            ]
          },
          "metadata": {},
          "execution_count": 12
        }
      ]
    },
    {
      "cell_type": "code",
      "source": [
        "df.info()"
      ],
      "metadata": {
        "id": "IbanwJ_Lk9-8",
        "colab": {
          "base_uri": "https://localhost:8080/"
        },
        "outputId": "ce761e36-6e72-4a34-9f5d-8a47756092eb"
      },
      "execution_count": 13,
      "outputs": [
        {
          "output_type": "stream",
          "name": "stdout",
          "text": [
            "<class 'pandas.core.frame.DataFrame'>\n",
            "Index: 10681 entries, 0 to 10681\n",
            "Data columns (total 11 columns):\n",
            " #   Column           Non-Null Count  Dtype \n",
            "---  ------           --------------  ----- \n",
            " 0   Airline          10681 non-null  object\n",
            " 1   Date_of_Journey  10681 non-null  object\n",
            " 2   Source           10681 non-null  object\n",
            " 3   Destination      10681 non-null  object\n",
            " 4   Route            10681 non-null  object\n",
            " 5   Dep_Time         10681 non-null  object\n",
            " 6   Arrival_Time     10681 non-null  object\n",
            " 7   Duration         10681 non-null  object\n",
            " 8   Total_Stops      10681 non-null  object\n",
            " 9   Additional_Info  10681 non-null  object\n",
            " 10  Price            10681 non-null  int64 \n",
            "dtypes: int64(1), object(10)\n",
            "memory usage: 1001.3+ KB\n"
          ]
        }
      ]
    },
    {
      "cell_type": "code",
      "source": [
        "df['Date_of_Journey']=pd.to_datetime(df['Date_of_Journey'])\n",
        "df['Journey_Date']=df['Date_of_Journey'].dt.day\n",
        "df['Journey_Day']=df['Date_of_Journey'].dt.dayofweek\n",
        "df['Journey_Month']=df['Date_of_Journey'].dt.month\n",
        "df['Journey_Year']=df['Date_of_Journey'].dt.year"
      ],
      "metadata": {
        "id": "-DxWdd-j-D1d",
        "colab": {
          "base_uri": "https://localhost:8080/"
        },
        "outputId": "a1fc6758-716a-4753-f580-e65a6b6295f1"
      },
      "execution_count": 14,
      "outputs": [
        {
          "output_type": "stream",
          "name": "stderr",
          "text": [
            "<ipython-input-14-e48efb45dac5>:1: UserWarning: Parsing dates in %d/%m/%Y format when dayfirst=False (the default) was specified. Pass `dayfirst=True` or specify a format to silence this warning.\n",
            "  df['Date_of_Journey']=pd.to_datetime(df['Date_of_Journey'])\n"
          ]
        }
      ]
    },
    {
      "cell_type": "code",
      "source": [
        "df['Journey_Day']"
      ],
      "metadata": {
        "id": "qjcLIs3G-X4F",
        "colab": {
          "base_uri": "https://localhost:8080/",
          "height": 458
        },
        "outputId": "ae4d07d5-06b9-428d-fba4-d0585680f330"
      },
      "execution_count": 15,
      "outputs": [
        {
          "output_type": "execute_result",
          "data": {
            "text/plain": [
              "0        6\n",
              "1        2\n",
              "2        6\n",
              "3        6\n",
              "4        4\n",
              "        ..\n",
              "10677    1\n",
              "10678    5\n",
              "10679    5\n",
              "10680    4\n",
              "10681    3\n",
              "Name: Journey_Day, Length: 10681, dtype: int32"
            ],
            "text/html": [
              "<div>\n",
              "<style scoped>\n",
              "    .dataframe tbody tr th:only-of-type {\n",
              "        vertical-align: middle;\n",
              "    }\n",
              "\n",
              "    .dataframe tbody tr th {\n",
              "        vertical-align: top;\n",
              "    }\n",
              "\n",
              "    .dataframe thead th {\n",
              "        text-align: right;\n",
              "    }\n",
              "</style>\n",
              "<table border=\"1\" class=\"dataframe\">\n",
              "  <thead>\n",
              "    <tr style=\"text-align: right;\">\n",
              "      <th></th>\n",
              "      <th>Journey_Day</th>\n",
              "    </tr>\n",
              "  </thead>\n",
              "  <tbody>\n",
              "    <tr>\n",
              "      <th>0</th>\n",
              "      <td>6</td>\n",
              "    </tr>\n",
              "    <tr>\n",
              "      <th>1</th>\n",
              "      <td>2</td>\n",
              "    </tr>\n",
              "    <tr>\n",
              "      <th>2</th>\n",
              "      <td>6</td>\n",
              "    </tr>\n",
              "    <tr>\n",
              "      <th>3</th>\n",
              "      <td>6</td>\n",
              "    </tr>\n",
              "    <tr>\n",
              "      <th>4</th>\n",
              "      <td>4</td>\n",
              "    </tr>\n",
              "    <tr>\n",
              "      <th>...</th>\n",
              "      <td>...</td>\n",
              "    </tr>\n",
              "    <tr>\n",
              "      <th>10677</th>\n",
              "      <td>1</td>\n",
              "    </tr>\n",
              "    <tr>\n",
              "      <th>10678</th>\n",
              "      <td>5</td>\n",
              "    </tr>\n",
              "    <tr>\n",
              "      <th>10679</th>\n",
              "      <td>5</td>\n",
              "    </tr>\n",
              "    <tr>\n",
              "      <th>10680</th>\n",
              "      <td>4</td>\n",
              "    </tr>\n",
              "    <tr>\n",
              "      <th>10681</th>\n",
              "      <td>3</td>\n",
              "    </tr>\n",
              "  </tbody>\n",
              "</table>\n",
              "<p>10681 rows × 1 columns</p>\n",
              "</div><br><label><b>dtype:</b> int32</label>"
            ]
          },
          "metadata": {},
          "execution_count": 15
        }
      ]
    },
    {
      "cell_type": "code",
      "source": [
        "df=df.drop(['Date_of_Journey'],axis=1)\n",
        "df['Journey_Date']=df['Journey_Date'].astype('int')\n",
        "df['Journey_Day']=df['Journey_Day'].astype('int')\n",
        "df['Journey_Month']=df['Journey_Month'].astype('int')\n",
        "df['Journey_Year']=df['Journey_Year'].astype('int')"
      ],
      "metadata": {
        "id": "d_G4wL6M-8Wo"
      },
      "execution_count": 16,
      "outputs": []
    },
    {
      "cell_type": "code",
      "source": [
        "print(df['Journey_Year'].value_counts())\n",
        "df=df.drop(['Journey_Year'],axis=1)\n",
        "#Dropping as it only has one value throughout the column"
      ],
      "metadata": {
        "id": "waShWUBh--uT",
        "colab": {
          "base_uri": "https://localhost:8080/"
        },
        "outputId": "7f826d74-96f4-4936-bc21-c7280f89ac6b"
      },
      "execution_count": 17,
      "outputs": [
        {
          "output_type": "stream",
          "name": "stdout",
          "text": [
            "Journey_Year\n",
            "2019    10681\n",
            "Name: count, dtype: int64\n"
          ]
        }
      ]
    },
    {
      "cell_type": "code",
      "source": [
        "df['Dep_Time']=pd.to_datetime(df['Dep_Time'])\n",
        "df['Dep_Hour']=df['Dep_Time'].dt.hour\n",
        "df=df.drop(['Dep_Time'],axis=1)\n",
        "print(df['Dep_Hour'])"
      ],
      "metadata": {
        "id": "dfS2iqqx_t0l",
        "colab": {
          "base_uri": "https://localhost:8080/"
        },
        "outputId": "a8c50c36-1c5c-46d4-a522-b151f5c5aa2c"
      },
      "execution_count": 18,
      "outputs": [
        {
          "output_type": "stream",
          "name": "stdout",
          "text": [
            "0        22\n",
            "1         5\n",
            "2         9\n",
            "3        18\n",
            "4        16\n",
            "         ..\n",
            "10677    19\n",
            "10678    20\n",
            "10679     8\n",
            "10680    11\n",
            "10681    10\n",
            "Name: Dep_Hour, Length: 10681, dtype: int32\n"
          ]
        },
        {
          "output_type": "stream",
          "name": "stderr",
          "text": [
            "<ipython-input-18-e1916f845e33>:1: UserWarning: Could not infer format, so each element will be parsed individually, falling back to `dateutil`. To ensure parsing is consistent and as-expected, please specify a format.\n",
            "  df['Dep_Time']=pd.to_datetime(df['Dep_Time'])\n"
          ]
        }
      ]
    },
    {
      "cell_type": "code",
      "source": [
        "df['Arrival_Time'].value_counts()"
      ],
      "metadata": {
        "id": "6HkZTvreL53g",
        "colab": {
          "base_uri": "https://localhost:8080/",
          "height": 490
        },
        "outputId": "5ceb6822-1a93-4403-dbfe-2334fdb65523"
      },
      "execution_count": 19,
      "outputs": [
        {
          "output_type": "execute_result",
          "data": {
            "text/plain": [
              "Arrival_Time\n",
              "19:00           423\n",
              "21:00           360\n",
              "19:15           333\n",
              "16:10           154\n",
              "12:35           122\n",
              "               ... \n",
              "00:25 02 Jun      1\n",
              "08:55 13 Mar      1\n",
              "11:05 19 May      1\n",
              "12:30 22 May      1\n",
              "21:20 13 Mar      1\n",
              "Name: count, Length: 1343, dtype: int64"
            ],
            "text/html": [
              "<div>\n",
              "<style scoped>\n",
              "    .dataframe tbody tr th:only-of-type {\n",
              "        vertical-align: middle;\n",
              "    }\n",
              "\n",
              "    .dataframe tbody tr th {\n",
              "        vertical-align: top;\n",
              "    }\n",
              "\n",
              "    .dataframe thead th {\n",
              "        text-align: right;\n",
              "    }\n",
              "</style>\n",
              "<table border=\"1\" class=\"dataframe\">\n",
              "  <thead>\n",
              "    <tr style=\"text-align: right;\">\n",
              "      <th></th>\n",
              "      <th>count</th>\n",
              "    </tr>\n",
              "    <tr>\n",
              "      <th>Arrival_Time</th>\n",
              "      <th></th>\n",
              "    </tr>\n",
              "  </thead>\n",
              "  <tbody>\n",
              "    <tr>\n",
              "      <th>19:00</th>\n",
              "      <td>423</td>\n",
              "    </tr>\n",
              "    <tr>\n",
              "      <th>21:00</th>\n",
              "      <td>360</td>\n",
              "    </tr>\n",
              "    <tr>\n",
              "      <th>19:15</th>\n",
              "      <td>333</td>\n",
              "    </tr>\n",
              "    <tr>\n",
              "      <th>16:10</th>\n",
              "      <td>154</td>\n",
              "    </tr>\n",
              "    <tr>\n",
              "      <th>12:35</th>\n",
              "      <td>122</td>\n",
              "    </tr>\n",
              "    <tr>\n",
              "      <th>...</th>\n",
              "      <td>...</td>\n",
              "    </tr>\n",
              "    <tr>\n",
              "      <th>00:25 02 Jun</th>\n",
              "      <td>1</td>\n",
              "    </tr>\n",
              "    <tr>\n",
              "      <th>08:55 13 Mar</th>\n",
              "      <td>1</td>\n",
              "    </tr>\n",
              "    <tr>\n",
              "      <th>11:05 19 May</th>\n",
              "      <td>1</td>\n",
              "    </tr>\n",
              "    <tr>\n",
              "      <th>12:30 22 May</th>\n",
              "      <td>1</td>\n",
              "    </tr>\n",
              "    <tr>\n",
              "      <th>21:20 13 Mar</th>\n",
              "      <td>1</td>\n",
              "    </tr>\n",
              "  </tbody>\n",
              "</table>\n",
              "<p>1343 rows × 1 columns</p>\n",
              "</div><br><label><b>dtype:</b> int64</label>"
            ]
          },
          "metadata": {},
          "execution_count": 19
        }
      ]
    },
    {
      "cell_type": "code",
      "source": [
        "df['Arrival_Time']=pd.to_datetime(df['Arrival_Time'])\n",
        "df['Arrival_Hour']=df['Arrival_Time'].dt.hour\n",
        "df=df.drop(['Arrival_Time'],axis=1)\n",
        "print(df['Arrival_Hour'])"
      ],
      "metadata": {
        "id": "IQ1bM5MOMFrp",
        "colab": {
          "base_uri": "https://localhost:8080/"
        },
        "outputId": "cec8070c-646d-47e2-b8d8-92655c0b8b0e"
      },
      "execution_count": 20,
      "outputs": [
        {
          "output_type": "stream",
          "name": "stderr",
          "text": [
            "<ipython-input-20-98339c4edd75>:1: UserWarning: Could not infer format, so each element will be parsed individually, falling back to `dateutil`. To ensure parsing is consistent and as-expected, please specify a format.\n",
            "  df['Arrival_Time']=pd.to_datetime(df['Arrival_Time'])\n"
          ]
        },
        {
          "output_type": "stream",
          "name": "stdout",
          "text": [
            "0         1\n",
            "1        13\n",
            "2         4\n",
            "3        23\n",
            "4        21\n",
            "         ..\n",
            "10677    22\n",
            "10678    23\n",
            "10679    11\n",
            "10680    14\n",
            "10681    19\n",
            "Name: Arrival_Hour, Length: 10681, dtype: int32\n"
          ]
        }
      ]
    },
    {
      "cell_type": "code",
      "source": [
        "df['Total_Stops'].value_counts()"
      ],
      "metadata": {
        "id": "Rs3h7cU8MZDI",
        "colab": {
          "base_uri": "https://localhost:8080/",
          "height": 272
        },
        "outputId": "c030f12d-8e1c-4bec-ea57-80a0e7127d85"
      },
      "execution_count": 21,
      "outputs": [
        {
          "output_type": "execute_result",
          "data": {
            "text/plain": [
              "Total_Stops\n",
              "1 stop      5624\n",
              "non-stop    3491\n",
              "2 stops     1520\n",
              "3 stops       45\n",
              "4 stops        1\n",
              "Name: count, dtype: int64"
            ],
            "text/html": [
              "<div>\n",
              "<style scoped>\n",
              "    .dataframe tbody tr th:only-of-type {\n",
              "        vertical-align: middle;\n",
              "    }\n",
              "\n",
              "    .dataframe tbody tr th {\n",
              "        vertical-align: top;\n",
              "    }\n",
              "\n",
              "    .dataframe thead th {\n",
              "        text-align: right;\n",
              "    }\n",
              "</style>\n",
              "<table border=\"1\" class=\"dataframe\">\n",
              "  <thead>\n",
              "    <tr style=\"text-align: right;\">\n",
              "      <th></th>\n",
              "      <th>count</th>\n",
              "    </tr>\n",
              "    <tr>\n",
              "      <th>Total_Stops</th>\n",
              "      <th></th>\n",
              "    </tr>\n",
              "  </thead>\n",
              "  <tbody>\n",
              "    <tr>\n",
              "      <th>1 stop</th>\n",
              "      <td>5624</td>\n",
              "    </tr>\n",
              "    <tr>\n",
              "      <th>non-stop</th>\n",
              "      <td>3491</td>\n",
              "    </tr>\n",
              "    <tr>\n",
              "      <th>2 stops</th>\n",
              "      <td>1520</td>\n",
              "    </tr>\n",
              "    <tr>\n",
              "      <th>3 stops</th>\n",
              "      <td>45</td>\n",
              "    </tr>\n",
              "    <tr>\n",
              "      <th>4 stops</th>\n",
              "      <td>1</td>\n",
              "    </tr>\n",
              "  </tbody>\n",
              "</table>\n",
              "</div><br><label><b>dtype:</b> int64</label>"
            ]
          },
          "metadata": {},
          "execution_count": 21
        }
      ]
    },
    {
      "cell_type": "code",
      "source": [
        "df['Total_Stops']=df['Total_Stops'].replace('non-stop',0)\n",
        "df['Total_Stops']=df['Total_Stops'].replace('1 stop',1)\n",
        "df['Total_Stops']=df['Total_Stops'].replace('2 stops',2)\n",
        "df['Total_Stops']=df['Total_Stops'].replace('3 stops',3)\n",
        "df['Total_Stops']=df['Total_Stops'].replace('4 stops',4)\n",
        "df['Total_Stops']=df['Total_Stops'].astype('int')"
      ],
      "metadata": {
        "id": "sxYS8R9TMo9w"
      },
      "execution_count": 22,
      "outputs": []
    },
    {
      "cell_type": "code",
      "source": [
        "df['Duration_hours']=df['Duration'].apply(lambda x:x.split('h')[0])\n",
        "df[df['Duration_hours']=='5m']"
      ],
      "metadata": {
        "id": "Uu5JN6hkQbZW",
        "colab": {
          "base_uri": "https://localhost:8080/",
          "height": 205
        },
        "outputId": "c706e837-1a29-4183-dd51-da02c629340a"
      },
      "execution_count": 23,
      "outputs": [
        {
          "output_type": "execute_result",
          "data": {
            "text/plain": [
              "        Airline  Source Destination                  Route Duration  \\\n",
              "6473  Air India  Mumbai   Hyderabad  BOM → GOI → PNQ → HYD       5m   \n",
              "\n",
              "      Total_Stops Additional_Info  Price  Journey_Date  Journey_Day  \\\n",
              "6473            2         No info  17327             6            2   \n",
              "\n",
              "      Journey_Month  Dep_Hour  Arrival_Hour Duration_hours  \n",
              "6473              3        16            16             5m  "
            ],
            "text/html": [
              "\n",
              "  <div id=\"df-b7795cc7-ccdf-49c1-985e-e41de5ad0af3\" class=\"colab-df-container\">\n",
              "    <div>\n",
              "<style scoped>\n",
              "    .dataframe tbody tr th:only-of-type {\n",
              "        vertical-align: middle;\n",
              "    }\n",
              "\n",
              "    .dataframe tbody tr th {\n",
              "        vertical-align: top;\n",
              "    }\n",
              "\n",
              "    .dataframe thead th {\n",
              "        text-align: right;\n",
              "    }\n",
              "</style>\n",
              "<table border=\"1\" class=\"dataframe\">\n",
              "  <thead>\n",
              "    <tr style=\"text-align: right;\">\n",
              "      <th></th>\n",
              "      <th>Airline</th>\n",
              "      <th>Source</th>\n",
              "      <th>Destination</th>\n",
              "      <th>Route</th>\n",
              "      <th>Duration</th>\n",
              "      <th>Total_Stops</th>\n",
              "      <th>Additional_Info</th>\n",
              "      <th>Price</th>\n",
              "      <th>Journey_Date</th>\n",
              "      <th>Journey_Day</th>\n",
              "      <th>Journey_Month</th>\n",
              "      <th>Dep_Hour</th>\n",
              "      <th>Arrival_Hour</th>\n",
              "      <th>Duration_hours</th>\n",
              "    </tr>\n",
              "  </thead>\n",
              "  <tbody>\n",
              "    <tr>\n",
              "      <th>6473</th>\n",
              "      <td>Air India</td>\n",
              "      <td>Mumbai</td>\n",
              "      <td>Hyderabad</td>\n",
              "      <td>BOM → GOI → PNQ → HYD</td>\n",
              "      <td>5m</td>\n",
              "      <td>2</td>\n",
              "      <td>No info</td>\n",
              "      <td>17327</td>\n",
              "      <td>6</td>\n",
              "      <td>2</td>\n",
              "      <td>3</td>\n",
              "      <td>16</td>\n",
              "      <td>16</td>\n",
              "      <td>5m</td>\n",
              "    </tr>\n",
              "  </tbody>\n",
              "</table>\n",
              "</div>\n",
              "    <div class=\"colab-df-buttons\">\n",
              "\n",
              "  <div class=\"colab-df-container\">\n",
              "    <button class=\"colab-df-convert\" onclick=\"convertToInteractive('df-b7795cc7-ccdf-49c1-985e-e41de5ad0af3')\"\n",
              "            title=\"Convert this dataframe to an interactive table.\"\n",
              "            style=\"display:none;\">\n",
              "\n",
              "  <svg xmlns=\"http://www.w3.org/2000/svg\" height=\"24px\" viewBox=\"0 -960 960 960\">\n",
              "    <path d=\"M120-120v-720h720v720H120Zm60-500h600v-160H180v160Zm220 220h160v-160H400v160Zm0 220h160v-160H400v160ZM180-400h160v-160H180v160Zm440 0h160v-160H620v160ZM180-180h160v-160H180v160Zm440 0h160v-160H620v160Z\"/>\n",
              "  </svg>\n",
              "    </button>\n",
              "\n",
              "  <style>\n",
              "    .colab-df-container {\n",
              "      display:flex;\n",
              "      gap: 12px;\n",
              "    }\n",
              "\n",
              "    .colab-df-convert {\n",
              "      background-color: #E8F0FE;\n",
              "      border: none;\n",
              "      border-radius: 50%;\n",
              "      cursor: pointer;\n",
              "      display: none;\n",
              "      fill: #1967D2;\n",
              "      height: 32px;\n",
              "      padding: 0 0 0 0;\n",
              "      width: 32px;\n",
              "    }\n",
              "\n",
              "    .colab-df-convert:hover {\n",
              "      background-color: #E2EBFA;\n",
              "      box-shadow: 0px 1px 2px rgba(60, 64, 67, 0.3), 0px 1px 3px 1px rgba(60, 64, 67, 0.15);\n",
              "      fill: #174EA6;\n",
              "    }\n",
              "\n",
              "    .colab-df-buttons div {\n",
              "      margin-bottom: 4px;\n",
              "    }\n",
              "\n",
              "    [theme=dark] .colab-df-convert {\n",
              "      background-color: #3B4455;\n",
              "      fill: #D2E3FC;\n",
              "    }\n",
              "\n",
              "    [theme=dark] .colab-df-convert:hover {\n",
              "      background-color: #434B5C;\n",
              "      box-shadow: 0px 1px 3px 1px rgba(0, 0, 0, 0.15);\n",
              "      filter: drop-shadow(0px 1px 2px rgba(0, 0, 0, 0.3));\n",
              "      fill: #FFFFFF;\n",
              "    }\n",
              "  </style>\n",
              "\n",
              "    <script>\n",
              "      const buttonEl =\n",
              "        document.querySelector('#df-b7795cc7-ccdf-49c1-985e-e41de5ad0af3 button.colab-df-convert');\n",
              "      buttonEl.style.display =\n",
              "        google.colab.kernel.accessAllowed ? 'block' : 'none';\n",
              "\n",
              "      async function convertToInteractive(key) {\n",
              "        const element = document.querySelector('#df-b7795cc7-ccdf-49c1-985e-e41de5ad0af3');\n",
              "        const dataTable =\n",
              "          await google.colab.kernel.invokeFunction('convertToInteractive',\n",
              "                                                    [key], {});\n",
              "        if (!dataTable) return;\n",
              "\n",
              "        const docLinkHtml = 'Like what you see? Visit the ' +\n",
              "          '<a target=\"_blank\" href=https://colab.research.google.com/notebooks/data_table.ipynb>data table notebook</a>'\n",
              "          + ' to learn more about interactive tables.';\n",
              "        element.innerHTML = '';\n",
              "        dataTable['output_type'] = 'display_data';\n",
              "        await google.colab.output.renderOutput(dataTable, element);\n",
              "        const docLink = document.createElement('div');\n",
              "        docLink.innerHTML = docLinkHtml;\n",
              "        element.appendChild(docLink);\n",
              "      }\n",
              "    </script>\n",
              "  </div>\n",
              "\n",
              "    </div>\n",
              "  </div>\n"
            ],
            "application/vnd.google.colaboratory.intrinsic+json": {
              "type": "dataframe",
              "summary": "{\n  \"name\": \"df[df['Duration_hours']=='5m']\",\n  \"rows\": 1,\n  \"fields\": [\n    {\n      \"column\": \"Airline\",\n      \"properties\": {\n        \"dtype\": \"string\",\n        \"num_unique_values\": 1,\n        \"samples\": [\n          \"Air India\"\n        ],\n        \"semantic_type\": \"\",\n        \"description\": \"\"\n      }\n    },\n    {\n      \"column\": \"Source\",\n      \"properties\": {\n        \"dtype\": \"string\",\n        \"num_unique_values\": 1,\n        \"samples\": [\n          \"Mumbai\"\n        ],\n        \"semantic_type\": \"\",\n        \"description\": \"\"\n      }\n    },\n    {\n      \"column\": \"Destination\",\n      \"properties\": {\n        \"dtype\": \"string\",\n        \"num_unique_values\": 1,\n        \"samples\": [\n          \"Hyderabad\"\n        ],\n        \"semantic_type\": \"\",\n        \"description\": \"\"\n      }\n    },\n    {\n      \"column\": \"Route\",\n      \"properties\": {\n        \"dtype\": \"string\",\n        \"num_unique_values\": 1,\n        \"samples\": [\n          \"BOM \\u2192 GOI \\u2192 PNQ \\u2192 HYD\"\n        ],\n        \"semantic_type\": \"\",\n        \"description\": \"\"\n      }\n    },\n    {\n      \"column\": \"Duration\",\n      \"properties\": {\n        \"dtype\": \"string\",\n        \"num_unique_values\": 1,\n        \"samples\": [\n          \"5m\"\n        ],\n        \"semantic_type\": \"\",\n        \"description\": \"\"\n      }\n    },\n    {\n      \"column\": \"Total_Stops\",\n      \"properties\": {\n        \"dtype\": \"number\",\n        \"std\": null,\n        \"min\": 2,\n        \"max\": 2,\n        \"num_unique_values\": 1,\n        \"samples\": [\n          2\n        ],\n        \"semantic_type\": \"\",\n        \"description\": \"\"\n      }\n    },\n    {\n      \"column\": \"Additional_Info\",\n      \"properties\": {\n        \"dtype\": \"string\",\n        \"num_unique_values\": 1,\n        \"samples\": [\n          \"No info\"\n        ],\n        \"semantic_type\": \"\",\n        \"description\": \"\"\n      }\n    },\n    {\n      \"column\": \"Price\",\n      \"properties\": {\n        \"dtype\": \"number\",\n        \"std\": null,\n        \"min\": 17327,\n        \"max\": 17327,\n        \"num_unique_values\": 1,\n        \"samples\": [\n          17327\n        ],\n        \"semantic_type\": \"\",\n        \"description\": \"\"\n      }\n    },\n    {\n      \"column\": \"Journey_Date\",\n      \"properties\": {\n        \"dtype\": \"number\",\n        \"std\": null,\n        \"min\": 6,\n        \"max\": 6,\n        \"num_unique_values\": 1,\n        \"samples\": [\n          6\n        ],\n        \"semantic_type\": \"\",\n        \"description\": \"\"\n      }\n    },\n    {\n      \"column\": \"Journey_Day\",\n      \"properties\": {\n        \"dtype\": \"number\",\n        \"std\": null,\n        \"min\": 2,\n        \"max\": 2,\n        \"num_unique_values\": 1,\n        \"samples\": [\n          2\n        ],\n        \"semantic_type\": \"\",\n        \"description\": \"\"\n      }\n    },\n    {\n      \"column\": \"Journey_Month\",\n      \"properties\": {\n        \"dtype\": \"number\",\n        \"std\": null,\n        \"min\": 3,\n        \"max\": 3,\n        \"num_unique_values\": 1,\n        \"samples\": [\n          3\n        ],\n        \"semantic_type\": \"\",\n        \"description\": \"\"\n      }\n    },\n    {\n      \"column\": \"Dep_Hour\",\n      \"properties\": {\n        \"dtype\": \"int32\",\n        \"num_unique_values\": 1,\n        \"samples\": [\n          16\n        ],\n        \"semantic_type\": \"\",\n        \"description\": \"\"\n      }\n    },\n    {\n      \"column\": \"Arrival_Hour\",\n      \"properties\": {\n        \"dtype\": \"int32\",\n        \"num_unique_values\": 1,\n        \"samples\": [\n          16\n        ],\n        \"semantic_type\": \"\",\n        \"description\": \"\"\n      }\n    },\n    {\n      \"column\": \"Duration_hours\",\n      \"properties\": {\n        \"dtype\": \"string\",\n        \"num_unique_values\": 1,\n        \"samples\": [\n          \"5m\"\n        ],\n        \"semantic_type\": \"\",\n        \"description\": \"\"\n      }\n    }\n  ]\n}"
            }
          },
          "metadata": {},
          "execution_count": 23
        }
      ]
    },
    {
      "cell_type": "code",
      "source": [
        "#Duration is 5 minutes which is incorrect data so dropping this row\n",
        "df=df.drop(index=[6473],axis=0)"
      ],
      "metadata": {
        "id": "Tksczs6aUvhf"
      },
      "execution_count": 24,
      "outputs": []
    },
    {
      "cell_type": "code",
      "source": [
        "df['Duration_hours']=df['Duration_hours'].astype('int')\n",
        "df['Duration_minutes']=df['Duration'].apply(lambda x:x.split('h')[1].strip().split('m')[0])\n",
        "print(df['Duration_minutes'].unique())"
      ],
      "metadata": {
        "id": "zW5m8tjbUTDf",
        "colab": {
          "base_uri": "https://localhost:8080/"
        },
        "outputId": "9fe105dd-aea2-4e42-cefa-d180fd343903"
      },
      "execution_count": 25,
      "outputs": [
        {
          "output_type": "stream",
          "name": "stdout",
          "text": [
            "['50' '25' '' '45' '30' '5' '15' '35' '10' '20' '55' '40']\n"
          ]
        }
      ]
    },
    {
      "cell_type": "code",
      "source": [
        "df[df['Duration_minutes']=='']"
      ],
      "metadata": {
        "id": "a_UFtFXpVnkT",
        "colab": {
          "base_uri": "https://localhost:8080/",
          "height": 1000
        },
        "outputId": "016ce40c-8ed6-4b6b-ab46-670c7654cb83"
      },
      "execution_count": 26,
      "outputs": [
        {
          "output_type": "execute_result",
          "data": {
            "text/plain": [
              "                 Airline    Source Destination                        Route  \\\n",
              "2            Jet Airways     Delhi      Cochin        DEL → LKO → BOM → COK   \n",
              "18             Air India     Delhi      Cochin        DEL → CCU → BOM → COK   \n",
              "33           Jet Airways     Delhi      Cochin        DEL → NAG → BOM → COK   \n",
              "44     Multiple carriers     Delhi      Cochin              DEL → BOM → COK   \n",
              "53                IndiGo  Banglore       Delhi                    BLR → DEL   \n",
              "...                  ...       ...         ...                          ...   \n",
              "10590        Jet Airways     Delhi      Cochin        DEL → ATQ → BOM → COK   \n",
              "10637        Jet Airways  Banglore   New Delhi              BLR → BOM → DEL   \n",
              "10638          Air India     Delhi      Cochin  DEL → RPR → NAG → BOM → COK   \n",
              "10672        Jet Airways     Delhi      Cochin        DEL → AMD → BOM → COK   \n",
              "10679        Jet Airways  Banglore       Delhi                    BLR → DEL   \n",
              "\n",
              "      Duration  Total_Stops              Additional_Info  Price  Journey_Date  \\\n",
              "2          19h            2                      No info  13882             9   \n",
              "18         23h            2                      No info  13381            12   \n",
              "33         22h            2  In-flight meal not included  10919            15   \n",
              "44         12h            1                      No info  13062            21   \n",
              "53          3h            0                      No info   3943            18   \n",
              "...        ...          ...                          ...    ...           ...   \n",
              "10590      23h            2                      No info  14300            12   \n",
              "10637      14h            1  In-flight meal not included   7832            21   \n",
              "10638      38h            3                      No info  10493             3   \n",
              "10672      15h            2                      No info  16704            27   \n",
              "10679       3h            0                      No info   7229            27   \n",
              "\n",
              "       Journey_Day  Journey_Month  Dep_Hour  Arrival_Hour  Duration_hours  \\\n",
              "2                6              6         9             4              19   \n",
              "18               2              6        20            19              23   \n",
              "33               5              6        14            12              22   \n",
              "44               3              3         9            21              12   \n",
              "53               1              6        21             0               3   \n",
              "...            ...            ...       ...           ...             ...   \n",
              "10590            2              6        20            19              23   \n",
              "10637            3              3        21            11              14   \n",
              "10638            0              6         5            19              38   \n",
              "10672            0              5        13             4              15   \n",
              "10679            5              4         8            11               3   \n",
              "\n",
              "      Duration_minutes  \n",
              "2                       \n",
              "18                      \n",
              "33                      \n",
              "44                      \n",
              "53                      \n",
              "...                ...  \n",
              "10590                   \n",
              "10637                   \n",
              "10638                   \n",
              "10672                   \n",
              "10679                   \n",
              "\n",
              "[1031 rows x 15 columns]"
            ],
            "text/html": [
              "\n",
              "  <div id=\"df-2a4f256a-c6ee-459c-b248-536082f01063\" class=\"colab-df-container\">\n",
              "    <div>\n",
              "<style scoped>\n",
              "    .dataframe tbody tr th:only-of-type {\n",
              "        vertical-align: middle;\n",
              "    }\n",
              "\n",
              "    .dataframe tbody tr th {\n",
              "        vertical-align: top;\n",
              "    }\n",
              "\n",
              "    .dataframe thead th {\n",
              "        text-align: right;\n",
              "    }\n",
              "</style>\n",
              "<table border=\"1\" class=\"dataframe\">\n",
              "  <thead>\n",
              "    <tr style=\"text-align: right;\">\n",
              "      <th></th>\n",
              "      <th>Airline</th>\n",
              "      <th>Source</th>\n",
              "      <th>Destination</th>\n",
              "      <th>Route</th>\n",
              "      <th>Duration</th>\n",
              "      <th>Total_Stops</th>\n",
              "      <th>Additional_Info</th>\n",
              "      <th>Price</th>\n",
              "      <th>Journey_Date</th>\n",
              "      <th>Journey_Day</th>\n",
              "      <th>Journey_Month</th>\n",
              "      <th>Dep_Hour</th>\n",
              "      <th>Arrival_Hour</th>\n",
              "      <th>Duration_hours</th>\n",
              "      <th>Duration_minutes</th>\n",
              "    </tr>\n",
              "  </thead>\n",
              "  <tbody>\n",
              "    <tr>\n",
              "      <th>2</th>\n",
              "      <td>Jet Airways</td>\n",
              "      <td>Delhi</td>\n",
              "      <td>Cochin</td>\n",
              "      <td>DEL → LKO → BOM → COK</td>\n",
              "      <td>19h</td>\n",
              "      <td>2</td>\n",
              "      <td>No info</td>\n",
              "      <td>13882</td>\n",
              "      <td>9</td>\n",
              "      <td>6</td>\n",
              "      <td>6</td>\n",
              "      <td>9</td>\n",
              "      <td>4</td>\n",
              "      <td>19</td>\n",
              "      <td></td>\n",
              "    </tr>\n",
              "    <tr>\n",
              "      <th>18</th>\n",
              "      <td>Air India</td>\n",
              "      <td>Delhi</td>\n",
              "      <td>Cochin</td>\n",
              "      <td>DEL → CCU → BOM → COK</td>\n",
              "      <td>23h</td>\n",
              "      <td>2</td>\n",
              "      <td>No info</td>\n",
              "      <td>13381</td>\n",
              "      <td>12</td>\n",
              "      <td>2</td>\n",
              "      <td>6</td>\n",
              "      <td>20</td>\n",
              "      <td>19</td>\n",
              "      <td>23</td>\n",
              "      <td></td>\n",
              "    </tr>\n",
              "    <tr>\n",
              "      <th>33</th>\n",
              "      <td>Jet Airways</td>\n",
              "      <td>Delhi</td>\n",
              "      <td>Cochin</td>\n",
              "      <td>DEL → NAG → BOM → COK</td>\n",
              "      <td>22h</td>\n",
              "      <td>2</td>\n",
              "      <td>In-flight meal not included</td>\n",
              "      <td>10919</td>\n",
              "      <td>15</td>\n",
              "      <td>5</td>\n",
              "      <td>6</td>\n",
              "      <td>14</td>\n",
              "      <td>12</td>\n",
              "      <td>22</td>\n",
              "      <td></td>\n",
              "    </tr>\n",
              "    <tr>\n",
              "      <th>44</th>\n",
              "      <td>Multiple carriers</td>\n",
              "      <td>Delhi</td>\n",
              "      <td>Cochin</td>\n",
              "      <td>DEL → BOM → COK</td>\n",
              "      <td>12h</td>\n",
              "      <td>1</td>\n",
              "      <td>No info</td>\n",
              "      <td>13062</td>\n",
              "      <td>21</td>\n",
              "      <td>3</td>\n",
              "      <td>3</td>\n",
              "      <td>9</td>\n",
              "      <td>21</td>\n",
              "      <td>12</td>\n",
              "      <td></td>\n",
              "    </tr>\n",
              "    <tr>\n",
              "      <th>53</th>\n",
              "      <td>IndiGo</td>\n",
              "      <td>Banglore</td>\n",
              "      <td>Delhi</td>\n",
              "      <td>BLR → DEL</td>\n",
              "      <td>3h</td>\n",
              "      <td>0</td>\n",
              "      <td>No info</td>\n",
              "      <td>3943</td>\n",
              "      <td>18</td>\n",
              "      <td>1</td>\n",
              "      <td>6</td>\n",
              "      <td>21</td>\n",
              "      <td>0</td>\n",
              "      <td>3</td>\n",
              "      <td></td>\n",
              "    </tr>\n",
              "    <tr>\n",
              "      <th>...</th>\n",
              "      <td>...</td>\n",
              "      <td>...</td>\n",
              "      <td>...</td>\n",
              "      <td>...</td>\n",
              "      <td>...</td>\n",
              "      <td>...</td>\n",
              "      <td>...</td>\n",
              "      <td>...</td>\n",
              "      <td>...</td>\n",
              "      <td>...</td>\n",
              "      <td>...</td>\n",
              "      <td>...</td>\n",
              "      <td>...</td>\n",
              "      <td>...</td>\n",
              "      <td>...</td>\n",
              "    </tr>\n",
              "    <tr>\n",
              "      <th>10590</th>\n",
              "      <td>Jet Airways</td>\n",
              "      <td>Delhi</td>\n",
              "      <td>Cochin</td>\n",
              "      <td>DEL → ATQ → BOM → COK</td>\n",
              "      <td>23h</td>\n",
              "      <td>2</td>\n",
              "      <td>No info</td>\n",
              "      <td>14300</td>\n",
              "      <td>12</td>\n",
              "      <td>2</td>\n",
              "      <td>6</td>\n",
              "      <td>20</td>\n",
              "      <td>19</td>\n",
              "      <td>23</td>\n",
              "      <td></td>\n",
              "    </tr>\n",
              "    <tr>\n",
              "      <th>10637</th>\n",
              "      <td>Jet Airways</td>\n",
              "      <td>Banglore</td>\n",
              "      <td>New Delhi</td>\n",
              "      <td>BLR → BOM → DEL</td>\n",
              "      <td>14h</td>\n",
              "      <td>1</td>\n",
              "      <td>In-flight meal not included</td>\n",
              "      <td>7832</td>\n",
              "      <td>21</td>\n",
              "      <td>3</td>\n",
              "      <td>3</td>\n",
              "      <td>21</td>\n",
              "      <td>11</td>\n",
              "      <td>14</td>\n",
              "      <td></td>\n",
              "    </tr>\n",
              "    <tr>\n",
              "      <th>10638</th>\n",
              "      <td>Air India</td>\n",
              "      <td>Delhi</td>\n",
              "      <td>Cochin</td>\n",
              "      <td>DEL → RPR → NAG → BOM → COK</td>\n",
              "      <td>38h</td>\n",
              "      <td>3</td>\n",
              "      <td>No info</td>\n",
              "      <td>10493</td>\n",
              "      <td>3</td>\n",
              "      <td>0</td>\n",
              "      <td>6</td>\n",
              "      <td>5</td>\n",
              "      <td>19</td>\n",
              "      <td>38</td>\n",
              "      <td></td>\n",
              "    </tr>\n",
              "    <tr>\n",
              "      <th>10672</th>\n",
              "      <td>Jet Airways</td>\n",
              "      <td>Delhi</td>\n",
              "      <td>Cochin</td>\n",
              "      <td>DEL → AMD → BOM → COK</td>\n",
              "      <td>15h</td>\n",
              "      <td>2</td>\n",
              "      <td>No info</td>\n",
              "      <td>16704</td>\n",
              "      <td>27</td>\n",
              "      <td>0</td>\n",
              "      <td>5</td>\n",
              "      <td>13</td>\n",
              "      <td>4</td>\n",
              "      <td>15</td>\n",
              "      <td></td>\n",
              "    </tr>\n",
              "    <tr>\n",
              "      <th>10679</th>\n",
              "      <td>Jet Airways</td>\n",
              "      <td>Banglore</td>\n",
              "      <td>Delhi</td>\n",
              "      <td>BLR → DEL</td>\n",
              "      <td>3h</td>\n",
              "      <td>0</td>\n",
              "      <td>No info</td>\n",
              "      <td>7229</td>\n",
              "      <td>27</td>\n",
              "      <td>5</td>\n",
              "      <td>4</td>\n",
              "      <td>8</td>\n",
              "      <td>11</td>\n",
              "      <td>3</td>\n",
              "      <td></td>\n",
              "    </tr>\n",
              "  </tbody>\n",
              "</table>\n",
              "<p>1031 rows × 15 columns</p>\n",
              "</div>\n",
              "    <div class=\"colab-df-buttons\">\n",
              "\n",
              "  <div class=\"colab-df-container\">\n",
              "    <button class=\"colab-df-convert\" onclick=\"convertToInteractive('df-2a4f256a-c6ee-459c-b248-536082f01063')\"\n",
              "            title=\"Convert this dataframe to an interactive table.\"\n",
              "            style=\"display:none;\">\n",
              "\n",
              "  <svg xmlns=\"http://www.w3.org/2000/svg\" height=\"24px\" viewBox=\"0 -960 960 960\">\n",
              "    <path d=\"M120-120v-720h720v720H120Zm60-500h600v-160H180v160Zm220 220h160v-160H400v160Zm0 220h160v-160H400v160ZM180-400h160v-160H180v160Zm440 0h160v-160H620v160ZM180-180h160v-160H180v160Zm440 0h160v-160H620v160Z\"/>\n",
              "  </svg>\n",
              "    </button>\n",
              "\n",
              "  <style>\n",
              "    .colab-df-container {\n",
              "      display:flex;\n",
              "      gap: 12px;\n",
              "    }\n",
              "\n",
              "    .colab-df-convert {\n",
              "      background-color: #E8F0FE;\n",
              "      border: none;\n",
              "      border-radius: 50%;\n",
              "      cursor: pointer;\n",
              "      display: none;\n",
              "      fill: #1967D2;\n",
              "      height: 32px;\n",
              "      padding: 0 0 0 0;\n",
              "      width: 32px;\n",
              "    }\n",
              "\n",
              "    .colab-df-convert:hover {\n",
              "      background-color: #E2EBFA;\n",
              "      box-shadow: 0px 1px 2px rgba(60, 64, 67, 0.3), 0px 1px 3px 1px rgba(60, 64, 67, 0.15);\n",
              "      fill: #174EA6;\n",
              "    }\n",
              "\n",
              "    .colab-df-buttons div {\n",
              "      margin-bottom: 4px;\n",
              "    }\n",
              "\n",
              "    [theme=dark] .colab-df-convert {\n",
              "      background-color: #3B4455;\n",
              "      fill: #D2E3FC;\n",
              "    }\n",
              "\n",
              "    [theme=dark] .colab-df-convert:hover {\n",
              "      background-color: #434B5C;\n",
              "      box-shadow: 0px 1px 3px 1px rgba(0, 0, 0, 0.15);\n",
              "      filter: drop-shadow(0px 1px 2px rgba(0, 0, 0, 0.3));\n",
              "      fill: #FFFFFF;\n",
              "    }\n",
              "  </style>\n",
              "\n",
              "    <script>\n",
              "      const buttonEl =\n",
              "        document.querySelector('#df-2a4f256a-c6ee-459c-b248-536082f01063 button.colab-df-convert');\n",
              "      buttonEl.style.display =\n",
              "        google.colab.kernel.accessAllowed ? 'block' : 'none';\n",
              "\n",
              "      async function convertToInteractive(key) {\n",
              "        const element = document.querySelector('#df-2a4f256a-c6ee-459c-b248-536082f01063');\n",
              "        const dataTable =\n",
              "          await google.colab.kernel.invokeFunction('convertToInteractive',\n",
              "                                                    [key], {});\n",
              "        if (!dataTable) return;\n",
              "\n",
              "        const docLinkHtml = 'Like what you see? Visit the ' +\n",
              "          '<a target=\"_blank\" href=https://colab.research.google.com/notebooks/data_table.ipynb>data table notebook</a>'\n",
              "          + ' to learn more about interactive tables.';\n",
              "        element.innerHTML = '';\n",
              "        dataTable['output_type'] = 'display_data';\n",
              "        await google.colab.output.renderOutput(dataTable, element);\n",
              "        const docLink = document.createElement('div');\n",
              "        docLink.innerHTML = docLinkHtml;\n",
              "        element.appendChild(docLink);\n",
              "      }\n",
              "    </script>\n",
              "  </div>\n",
              "\n",
              "\n",
              "<div id=\"df-6a552f52-752b-4099-88bb-143e36ff539c\">\n",
              "  <button class=\"colab-df-quickchart\" onclick=\"quickchart('df-6a552f52-752b-4099-88bb-143e36ff539c')\"\n",
              "            title=\"Suggest charts\"\n",
              "            style=\"display:none;\">\n",
              "\n",
              "<svg xmlns=\"http://www.w3.org/2000/svg\" height=\"24px\"viewBox=\"0 0 24 24\"\n",
              "     width=\"24px\">\n",
              "    <g>\n",
              "        <path d=\"M19 3H5c-1.1 0-2 .9-2 2v14c0 1.1.9 2 2 2h14c1.1 0 2-.9 2-2V5c0-1.1-.9-2-2-2zM9 17H7v-7h2v7zm4 0h-2V7h2v10zm4 0h-2v-4h2v4z\"/>\n",
              "    </g>\n",
              "</svg>\n",
              "  </button>\n",
              "\n",
              "<style>\n",
              "  .colab-df-quickchart {\n",
              "      --bg-color: #E8F0FE;\n",
              "      --fill-color: #1967D2;\n",
              "      --hover-bg-color: #E2EBFA;\n",
              "      --hover-fill-color: #174EA6;\n",
              "      --disabled-fill-color: #AAA;\n",
              "      --disabled-bg-color: #DDD;\n",
              "  }\n",
              "\n",
              "  [theme=dark] .colab-df-quickchart {\n",
              "      --bg-color: #3B4455;\n",
              "      --fill-color: #D2E3FC;\n",
              "      --hover-bg-color: #434B5C;\n",
              "      --hover-fill-color: #FFFFFF;\n",
              "      --disabled-bg-color: #3B4455;\n",
              "      --disabled-fill-color: #666;\n",
              "  }\n",
              "\n",
              "  .colab-df-quickchart {\n",
              "    background-color: var(--bg-color);\n",
              "    border: none;\n",
              "    border-radius: 50%;\n",
              "    cursor: pointer;\n",
              "    display: none;\n",
              "    fill: var(--fill-color);\n",
              "    height: 32px;\n",
              "    padding: 0;\n",
              "    width: 32px;\n",
              "  }\n",
              "\n",
              "  .colab-df-quickchart:hover {\n",
              "    background-color: var(--hover-bg-color);\n",
              "    box-shadow: 0 1px 2px rgba(60, 64, 67, 0.3), 0 1px 3px 1px rgba(60, 64, 67, 0.15);\n",
              "    fill: var(--button-hover-fill-color);\n",
              "  }\n",
              "\n",
              "  .colab-df-quickchart-complete:disabled,\n",
              "  .colab-df-quickchart-complete:disabled:hover {\n",
              "    background-color: var(--disabled-bg-color);\n",
              "    fill: var(--disabled-fill-color);\n",
              "    box-shadow: none;\n",
              "  }\n",
              "\n",
              "  .colab-df-spinner {\n",
              "    border: 2px solid var(--fill-color);\n",
              "    border-color: transparent;\n",
              "    border-bottom-color: var(--fill-color);\n",
              "    animation:\n",
              "      spin 1s steps(1) infinite;\n",
              "  }\n",
              "\n",
              "  @keyframes spin {\n",
              "    0% {\n",
              "      border-color: transparent;\n",
              "      border-bottom-color: var(--fill-color);\n",
              "      border-left-color: var(--fill-color);\n",
              "    }\n",
              "    20% {\n",
              "      border-color: transparent;\n",
              "      border-left-color: var(--fill-color);\n",
              "      border-top-color: var(--fill-color);\n",
              "    }\n",
              "    30% {\n",
              "      border-color: transparent;\n",
              "      border-left-color: var(--fill-color);\n",
              "      border-top-color: var(--fill-color);\n",
              "      border-right-color: var(--fill-color);\n",
              "    }\n",
              "    40% {\n",
              "      border-color: transparent;\n",
              "      border-right-color: var(--fill-color);\n",
              "      border-top-color: var(--fill-color);\n",
              "    }\n",
              "    60% {\n",
              "      border-color: transparent;\n",
              "      border-right-color: var(--fill-color);\n",
              "    }\n",
              "    80% {\n",
              "      border-color: transparent;\n",
              "      border-right-color: var(--fill-color);\n",
              "      border-bottom-color: var(--fill-color);\n",
              "    }\n",
              "    90% {\n",
              "      border-color: transparent;\n",
              "      border-bottom-color: var(--fill-color);\n",
              "    }\n",
              "  }\n",
              "</style>\n",
              "\n",
              "  <script>\n",
              "    async function quickchart(key) {\n",
              "      const quickchartButtonEl =\n",
              "        document.querySelector('#' + key + ' button');\n",
              "      quickchartButtonEl.disabled = true;  // To prevent multiple clicks.\n",
              "      quickchartButtonEl.classList.add('colab-df-spinner');\n",
              "      try {\n",
              "        const charts = await google.colab.kernel.invokeFunction(\n",
              "            'suggestCharts', [key], {});\n",
              "      } catch (error) {\n",
              "        console.error('Error during call to suggestCharts:', error);\n",
              "      }\n",
              "      quickchartButtonEl.classList.remove('colab-df-spinner');\n",
              "      quickchartButtonEl.classList.add('colab-df-quickchart-complete');\n",
              "    }\n",
              "    (() => {\n",
              "      let quickchartButtonEl =\n",
              "        document.querySelector('#df-6a552f52-752b-4099-88bb-143e36ff539c button');\n",
              "      quickchartButtonEl.style.display =\n",
              "        google.colab.kernel.accessAllowed ? 'block' : 'none';\n",
              "    })();\n",
              "  </script>\n",
              "</div>\n",
              "    </div>\n",
              "  </div>\n"
            ],
            "application/vnd.google.colaboratory.intrinsic+json": {
              "type": "dataframe",
              "repr_error": "0"
            }
          },
          "metadata": {},
          "execution_count": 26
        }
      ]
    },
    {
      "cell_type": "code",
      "source": [
        "#Replacing blank string in Duration_minutes with 0\n",
        "df['Duration_minutes']=df['Duration_minutes'].replace('',0)\n",
        "df['Duration_minutes']=df['Duration_minutes'].astype('int')"
      ],
      "metadata": {
        "id": "slDg8yA5WEsF"
      },
      "execution_count": 27,
      "outputs": []
    },
    {
      "cell_type": "code",
      "source": [
        "df['Duration_minutes']=df['Duration_minutes']+60*df['Duration_hours']"
      ],
      "metadata": {
        "id": "fal4EkugWd0X"
      },
      "execution_count": 28,
      "outputs": []
    },
    {
      "cell_type": "code",
      "source": [
        "print(df['Duration_minutes'])\n",
        "df=df.drop(['Duration','Duration_hours'],axis=1)"
      ],
      "metadata": {
        "id": "cFjDC8b9Wzxp",
        "colab": {
          "base_uri": "https://localhost:8080/"
        },
        "outputId": "d5c5735a-43a9-40a7-b899-a9d3651218aa"
      },
      "execution_count": 29,
      "outputs": [
        {
          "output_type": "stream",
          "name": "stdout",
          "text": [
            "0         170\n",
            "1         445\n",
            "2        1140\n",
            "3         325\n",
            "4         285\n",
            "         ... \n",
            "10677     150\n",
            "10678     155\n",
            "10679     180\n",
            "10680     160\n",
            "10681     500\n",
            "Name: Duration_minutes, Length: 10680, dtype: int64\n"
          ]
        }
      ]
    },
    {
      "cell_type": "code",
      "source": [
        "df=df.drop(['Route'],axis=1)"
      ],
      "metadata": {
        "id": "2e5EZTDkXEpE"
      },
      "execution_count": 30,
      "outputs": []
    },
    {
      "cell_type": "code",
      "source": [
        "df_numeric=df.select_dtypes(include=['int64','float64'])"
      ],
      "metadata": {
        "id": "nvG_RG-ll3-V"
      },
      "execution_count": 31,
      "outputs": []
    },
    {
      "cell_type": "markdown",
      "source": [
        "1)C)"
      ],
      "metadata": {
        "id": "zlJSt8lKl5G7"
      }
    },
    {
      "cell_type": "code",
      "source": [
        "def visualize_boxplot(column):\n",
        "  sns.boxplot(data=df_numeric,x=df_numeric[column])\n",
        "  plt.show()\n",
        "for i in df_numeric.columns:\n",
        "  visualize_boxplot(i)"
      ],
      "metadata": {
        "id": "mhV2VUZFlxc9",
        "colab": {
          "base_uri": "https://localhost:8080/",
          "height": 1000
        },
        "outputId": "7cb5860c-ceaa-455c-ee42-3010bacb0d84"
      },
      "execution_count": 32,
      "outputs": [
        {
          "output_type": "display_data",
          "data": {
            "text/plain": [
              "<Figure size 640x480 with 1 Axes>"
            ],
            "image/png": "[encoded data removed]"
          },
          "metadata": {}
        },
        {
          "output_type": "display_data",
          "data": {
            "text/plain": [
              "<Figure size 640x480 with 1 Axes>"
            ],
            "image/png": "[encoded data removed]"
          },
          "metadata": {}
        },
        {
          "output_type": "display_data",
          "data": {
            "text/plain": [
              "<Figure size 640x480 with 1 Axes>"
            ],
            "image/png": "[encoded data removed]"
          },
          "metadata": {}
        },
        {
          "output_type": "display_data",
          "data": {
            "text/plain": [
              "<Figure size 640x480 with 1 Axes>"
            ],
            "image/png": "[encoded data removed]"
          },
          "metadata": {}
        },
        {
          "output_type": "display_data",
          "data": {
            "text/plain": [
              "<Figure size 640x480 with 1 Axes>"
            ],
            "image/png": "[encoded data removed]"
          },
          "metadata": {}
        },
        {
          "output_type": "display_data",
          "data": {
            "text/plain": [
              "<Figure size 640x480 with 1 Axes>"
            ],
            "image/png": "[encoded data removed]"
          },
          "metadata": {}
        }
      ]
    },
    {
      "cell_type": "code",
      "source": [
        "df=pd.get_dummies(df,columns=['Airline','Source','Destination','Additional_Info'],drop_first=True)"
      ],
      "metadata": {
        "id": "H-G_pY0gfvwh"
      },
      "execution_count": 33,
      "outputs": []
    },
    {
      "cell_type": "code",
      "source": [
        "df=df.drop(['Additional_Info_1 Short layover','Additional_Info_Red-eye flight','Additional_Info_2 Long layover','Additional_Info_No info','Arrival_Hour'],axis=1)\n",
        "#Dropping these columns as they only have one instance in the column"
      ],
      "metadata": {
        "id": "Mo8KRy8elcWn"
      },
      "execution_count": 34,
      "outputs": []
    },
    {
      "cell_type": "code",
      "source": [
        "df.info()"
      ],
      "metadata": {
        "id": "w_v4rZ6_0RWl",
        "colab": {
          "base_uri": "https://localhost:8080/"
        },
        "outputId": "21c80157-86a4-4b59-8775-48adc431d43f"
      },
      "execution_count": 35,
      "outputs": [
        {
          "output_type": "stream",
          "name": "stdout",
          "text": [
            "<class 'pandas.core.frame.DataFrame'>\n",
            "Index: 10680 entries, 0 to 10681\n",
            "Data columns (total 30 columns):\n",
            " #   Column                                        Non-Null Count  Dtype\n",
            "---  ------                                        --------------  -----\n",
            " 0   Total_Stops                                   10680 non-null  int64\n",
            " 1   Price                                         10680 non-null  int64\n",
            " 2   Journey_Date                                  10680 non-null  int64\n",
            " 3   Journey_Day                                   10680 non-null  int64\n",
            " 4   Journey_Month                                 10680 non-null  int64\n",
            " 5   Dep_Hour                                      10680 non-null  int32\n",
            " 6   Duration_minutes                              10680 non-null  int64\n",
            " 7   Airline_Air India                             10680 non-null  bool \n",
            " 8   Airline_GoAir                                 10680 non-null  bool \n",
            " 9   Airline_IndiGo                                10680 non-null  bool \n",
            " 10  Airline_Jet Airways                           10680 non-null  bool \n",
            " 11  Airline_Jet Airways Business                  10680 non-null  bool \n",
            " 12  Airline_Multiple carriers                     10680 non-null  bool \n",
            " 13  Airline_Multiple carriers Premium economy     10680 non-null  bool \n",
            " 14  Airline_SpiceJet                              10680 non-null  bool \n",
            " 15  Airline_Vistara                               10680 non-null  bool \n",
            " 16  Airline_Vistara Premium economy               10680 non-null  bool \n",
            " 17  Source_Chennai                                10680 non-null  bool \n",
            " 18  Source_Delhi                                  10680 non-null  bool \n",
            " 19  Source_Kolkata                                10680 non-null  bool \n",
            " 20  Source_Mumbai                                 10680 non-null  bool \n",
            " 21  Destination_Cochin                            10680 non-null  bool \n",
            " 22  Destination_Delhi                             10680 non-null  bool \n",
            " 23  Destination_Hyderabad                         10680 non-null  bool \n",
            " 24  Destination_Kolkata                           10680 non-null  bool \n",
            " 25  Destination_New Delhi                         10680 non-null  bool \n",
            " 26  Additional_Info_Business class                10680 non-null  bool \n",
            " 27  Additional_Info_Change airports               10680 non-null  bool \n",
            " 28  Additional_Info_In-flight meal not included   10680 non-null  bool \n",
            " 29  Additional_Info_No check-in baggage included  10680 non-null  bool \n",
            "dtypes: bool(23), int32(1), int64(6)\n",
            "memory usage: 865.7 KB\n"
          ]
        }
      ]
    },
    {
      "cell_type": "markdown",
      "source": [
        "Deciding whether you need a fully connected neural network (FCNN) depends on the problem you're trying to solve and the characteristics of your data. Here are some factors to consider:\n",
        "\n",
        "### 1. **Nature of the Data:**\n",
        "   - **Structured Data**: If your data is structured, like tabular data, an FCNN might be suitable. FCNNs can model complex relationships between features in structured data.\n",
        "   - **Unstructured Data**: If you're working with unstructured data like images, text, or audio, FCNNs may not be the best choice. Convolutional Neural Networks (CNNs) are often better for images, while Recurrent Neural Networks (RNNs) or Transformers are better for sequences (like text or time series).\n",
        "\n",
        "### 2. **Feature Independence:**\n",
        "   - **Independent Features**: If the features in your data are independent, an FCNN might be appropriate since it treats each feature equally.\n",
        "   - **Local Dependencies**: If there are local dependencies or hierarchical patterns in your data (e.g., pixels in an image, words in a sentence), a model like CNNs or RNNs that can exploit these patterns might be better.\n",
        "\n",
        "### 3. **Complexity of the Problem:**\n",
        "   - **Simple Relationships**: For problems where the relationships between inputs and outputs are relatively simple, FCNNs can work well.\n",
        "   - **Complex Relationships**: For problems requiring understanding of spatial, temporal, or other complex patterns, specialized architectures (like CNNs for spatial data or RNNs for sequential data) might perform better.\n",
        "\n",
        "### 4. **Computational Resources:**\n",
        "   - **Resource Constraints**: FCNNs can become computationally expensive with large input sizes, as they require a lot of parameters. If computational resources are limited, and the input size is large, consider other architectures that might reduce the parameter count (e.g., CNNs for images).\n",
        "\n",
        "### 5. **Interpretability:**\n",
        "   - **Need for Interpretability**: If interpretability is important, simpler models like logistic regression, decision trees, or even smaller FCNNs might be preferable.\n",
        "\n",
        "### 6. **Domain Expertise:**\n",
        "   - **Incorporating Domain Knowledge**: Sometimes, domain knowledge suggests a particular structure for the model. For instance, in image recognition, the spatial structure of images naturally leads to the use of CNNs.\n",
        "\n",
        "### 7. **Experimentation:**\n",
        "   - **Empirical Performance**: Often, the best approach is to experiment with different model types and see which one performs best on your validation data. This could mean starting with simpler models like FCNNs and moving to more complex architectures if needed.\n",
        "\n",
        "### When to Use FCNN:\n",
        "- When your data is structured and doesn't have inherent spatial or temporal dependencies.\n",
        "- When you need a general-purpose model that can handle various types of data without relying on specific assumptions about the data structure.\n",
        "- When your problem is relatively simple, and you want a straightforward architecture.\n",
        "\n",
        "### When Not to Use FCNN:\n",
        "- When dealing with images, use CNNs instead, as they can exploit the spatial hierarchy in the data.\n",
        "- When dealing with sequential data (e.g., time series, text), consider RNNs, LSTMs, GRUs, or Transformers.\n",
        "- When your data has complex structures that specific architectures can model more effectively.\n",
        "\n",
        "In summary, the decision to use an FCNN or not depends largely on the data's structure, the complexity of the task, and the availability of computational resources."
      ],
      "metadata": {
        "id": "KLyXJ35ViVYn"
      }
    },
    {
      "cell_type": "markdown",
      "source": [
        "Deciding on the number of hidden layers and the number of neurons in each layer for a neural network is more of an art than a science, often requiring experimentation. However, there are some guidelines and considerations that can help you make informed decisions.\n",
        "\n",
        "### 1. **Complexity of the Problem:**\n",
        "   - **Simple Problems:** If the problem is relatively simple (e.g., linear or low-dimensional), a neural network with one hidden layer might suffice. In fact, a single hidden layer with enough neurons can approximate any continuous function (this is known as the Universal Approximation Theorem).\n",
        "   - **Complex Problems:** More complex problems, especially those involving highly non-linear functions or high-dimensional data, may require multiple hidden layers to capture intricate patterns and features.\n",
        "\n",
        "### 2. **Type of Data:**\n",
        "   - **Structured Data:** For structured data (e.g., tabular data), a few hidden layers with a moderate number of neurons might be sufficient.\n",
        "   - **Unstructured Data:** For unstructured data like images, text, or audio, deeper networks (more hidden layers) are typically required. For example, deep Convolutional Neural Networks (CNNs) might have dozens of layers for image recognition tasks.\n",
        "\n",
        "### 3. **Dimensionality of Input Data:**\n",
        "   - **Low-Dimensional Data:** If your input data has a low number of features, you might not need many neurons in the hidden layers.\n",
        "   - **High-Dimensional Data:** For high-dimensional data, you might need more neurons in each layer to adequately capture the complexity of the input space.\n",
        "\n",
        "### 4. **Overfitting and Underfitting:**\n",
        "   - **Overfitting:** Using too many neurons or layers can lead to overfitting, where the model performs well on training data but poorly on unseen data. Regularization techniques like dropout, L2 regularization, or reducing the number of neurons/layers can help mitigate this.\n",
        "   - **Underfitting:** Conversely, using too few neurons or layers can lead to underfitting, where the model is too simple to capture the underlying patterns in the data.\n",
        "\n",
        "### 5. **Computational Resources:**\n",
        "   - **Resource Constraints:** Deeper networks with more neurons require more computational resources and longer training times. If resources are limited, you might need to balance network complexity with available resources.\n",
        "   - **Efficiency Considerations:** Start with a smaller network and gradually increase the complexity as needed. This approach allows you to find a good balance between performance and efficiency.\n",
        "\n",
        "### 6. **Domain Knowledge:**\n",
        "   - **Incorporating Insights:** If you have domain knowledge about the problem, use it to inform the network architecture. For example, in image processing, you might start with a smaller number of neurons in the initial layers and increase them in deeper layers to capture more abstract features.\n",
        "\n",
        "### 7. **Experimentation and Tuning:**\n",
        "   - **Grid Search and Random Search:** Experiment with different numbers of layers and neurons using grid search, random search, or even more sophisticated techniques like Bayesian optimization.\n",
        "   - **Early Stopping:** Use early stopping to prevent overfitting and to find the optimal number of neurons and layers.\n",
        "   - **Cross-Validation:** Use cross-validation to assess the generalization ability of different architectures and choose the one that performs best on validation data.\n",
        "\n",
        "### 8. **Heuristics and Rules of Thumb:**\n",
        "   - **Starting Point:** Start with one or two hidden layers and a number of neurons somewhere between the size of the input layer and the size of the output layer.\n",
        "   - **Neurons per Layer:** A common heuristic is to start with a number of neurons equal to the average of the input and output layer sizes, and adjust from there.\n",
        "   - **Incremental Complexity:** Add more layers or increase the number of neurons if the model is underfitting (not learning enough), and reduce complexity if the model is overfitting.\n",
        "\n",
        "### 9. **Examples of Common Architectures:**\n",
        "   - **Shallow Networks:** For straightforward tasks, a network with one hidden layer and 10-100 neurons might suffice.\n",
        "   - **Deep Networks:** For more complex tasks, especially in deep learning applications like image recognition or NLP, networks can have dozens or even hundreds of layers with varying numbers of neurons.\n",
        "\n",
        "### Summary:\n",
        "- **Start Simple:** Begin with one or two hidden layers and a moderate number of neurons.\n",
        "- **Experiment and Validate:** Gradually increase complexity based on validation performance and use regularization to prevent overfitting.\n",
        "- **Domain Knowledge:** Leverage domain knowledge and data characteristics to guide your decisions.\n",
        "- **Monitor Performance:** Continuously monitor the model's performance to adjust the architecture as needed."
      ],
      "metadata": {
        "id": "n0uwsIMbl37F"
      }
    },
    {
      "cell_type": "code",
      "source": [
        "X=df.copy()\n",
        "X=X.drop('Price',axis=1)\n",
        "X.info()"
      ],
      "metadata": {
        "id": "T9h3lU0qiWc7",
        "colab": {
          "base_uri": "https://localhost:8080/"
        },
        "outputId": "a082083b-2629-4d53-e1df-7c1934cf0526"
      },
      "execution_count": 36,
      "outputs": [
        {
          "output_type": "stream",
          "name": "stdout",
          "text": [
            "<class 'pandas.core.frame.DataFrame'>\n",
            "Index: 10680 entries, 0 to 10681\n",
            "Data columns (total 29 columns):\n",
            " #   Column                                        Non-Null Count  Dtype\n",
            "---  ------                                        --------------  -----\n",
            " 0   Total_Stops                                   10680 non-null  int64\n",
            " 1   Journey_Date                                  10680 non-null  int64\n",
            " 2   Journey_Day                                   10680 non-null  int64\n",
            " 3   Journey_Month                                 10680 non-null  int64\n",
            " 4   Dep_Hour                                      10680 non-null  int32\n",
            " 5   Duration_minutes                              10680 non-null  int64\n",
            " 6   Airline_Air India                             10680 non-null  bool \n",
            " 7   Airline_GoAir                                 10680 non-null  bool \n",
            " 8   Airline_IndiGo                                10680 non-null  bool \n",
            " 9   Airline_Jet Airways                           10680 non-null  bool \n",
            " 10  Airline_Jet Airways Business                  10680 non-null  bool \n",
            " 11  Airline_Multiple carriers                     10680 non-null  bool \n",
            " 12  Airline_Multiple carriers Premium economy     10680 non-null  bool \n",
            " 13  Airline_SpiceJet                              10680 non-null  bool \n",
            " 14  Airline_Vistara                               10680 non-null  bool \n",
            " 15  Airline_Vistara Premium economy               10680 non-null  bool \n",
            " 16  Source_Chennai                                10680 non-null  bool \n",
            " 17  Source_Delhi                                  10680 non-null  bool \n",
            " 18  Source_Kolkata                                10680 non-null  bool \n",
            " 19  Source_Mumbai                                 10680 non-null  bool \n",
            " 20  Destination_Cochin                            10680 non-null  bool \n",
            " 21  Destination_Delhi                             10680 non-null  bool \n",
            " 22  Destination_Hyderabad                         10680 non-null  bool \n",
            " 23  Destination_Kolkata                           10680 non-null  bool \n",
            " 24  Destination_New Delhi                         10680 non-null  bool \n",
            " 25  Additional_Info_Business class                10680 non-null  bool \n",
            " 26  Additional_Info_Change airports               10680 non-null  bool \n",
            " 27  Additional_Info_In-flight meal not included   10680 non-null  bool \n",
            " 28  Additional_Info_No check-in baggage included  10680 non-null  bool \n",
            "dtypes: bool(23), int32(1), int64(5)\n",
            "memory usage: 782.2 KB\n"
          ]
        }
      ]
    },
    {
      "cell_type": "code",
      "source": [
        "y=df['Price']"
      ],
      "metadata": {
        "id": "_rWD20ZRmybe"
      },
      "execution_count": 37,
      "outputs": []
    },
    {
      "cell_type": "code",
      "source": [
        "'''\n",
        "What is Cross-Validation?\n",
        "Cross-validation is a technique used to assess the performance and generalizability of a machine learning model. It involves partitioning the dataset into multiple subsets and training the model on some subsets while validating it on the others. This process helps in identifying how well the model performs on unseen data, reducing the likelihood of overfitting.\n",
        "\n",
        "Types of Cross-Validation:\n",
        "K-Fold Cross-Validation: The dataset is split into k equally sized \"folds.\" The model is trained on k-1 folds and tested on the remaining fold. This process is repeated k times, each time with a different fold used as the test set. The final performance metric is the average of the metrics from the k iterations.\n",
        "\n",
        "Stratified K-Fold Cross-Validation: Similar to K-Fold, but it ensures that each fold has the same proportion of classes, which is especially useful for imbalanced datasets.\n",
        "\n",
        "Leave-One-Out Cross-Validation (LOOCV): Each observation in the dataset is treated as a test set while the remaining observations are used as the training set. This is a special case of K-Fold where k is equal to the number of data points.\n",
        "\n",
        "Time Series Cross-Validation: Used for time series data where the order of data is important. The training set is expanded in each iteration while keeping the test set forward in time.\n",
        "\n",
        "Example: K-Fold Cross-Validation in Python\n",
        "Let's go through an example of how to perform K-Fold Cross-Validation using Python's scikit-learn library.\n",
        "'''\n",
        "'''\n",
        "import numpy as np\n",
        "from sklearn.datasets import load_iris\n",
        "from sklearn.model_selection import KFold, cross_val_score\n",
        "from sklearn.ensemble import RandomForestClassifier\n",
        "# Load the Iris dataset\n",
        "iris = load_iris()\n",
        "X = iris.data  # Features\n",
        "y = iris.target  # Target variable (classes)\n",
        "# Define the model\n",
        "model = RandomForestClassifier(random_state=42)\n",
        "# Set up K-Fold Cross-Validation\n",
        "kf = KFold(n_splits=5, shuffle=True, random_state=42)\n",
        "# Perform cross-validation\n",
        "scores = cross_val_score(model, X, y, cv=kf, scoring='accuracy')\n",
        "\n",
        "# Output the scores\n",
        "print(\"Cross-Validation Scores:\", scores)\n",
        "print(\"Mean Accuracy:\", np.mean(scores))\n",
        "print(\"Standard Deviation of Accuracy:\", np.std(scores))\n",
        "'''\n",
        "'''\n",
        "Explanation:\n",
        "cross_val_score: This function automatically performs the cross-validation process. It fits the model on the training set and evaluates it on the validation set for each fold.\n",
        "cv=kf: Here, kf is the KFold object, which determines how the data is split.\n",
        "scoring='accuracy': Specifies that we want to measure the accuracy of the model for each fold.\n",
        "np.mean(scores): Computes the mean accuracy across all folds.\n",
        "np.std(scores): Computes the standard deviation of accuracy across all folds, giving an idea of the variance in model performance.\n",
        "Output:\n",
        "The output will be a set of accuracy scores, one for each fold, along with the mean and standard deviation of these scores. This information helps in understanding how well the model is likely to perform on unseen data.\n",
        "\n",
        "Summary:\n",
        "Cross-validation, particularly K-Fold Cross-Validation, is a powerful technique to evaluate the performance of a machine learning model. It helps in ensuring that the model generalizes well to new data by using multiple train-test splits. Python's scikit-learn library makes it easy to implement and analyze the results of cross-validation.\n",
        "'''"
      ],
      "metadata": {
        "id": "d72Zj7RWn91l",
        "colab": {
          "base_uri": "https://localhost:8080/",
          "height": 140
        },
        "outputId": "e445ef9c-73e3-4295-edf1-fcaa7d1e3a3c"
      },
      "execution_count": 38,
      "outputs": [
        {
          "output_type": "execute_result",
          "data": {
            "text/plain": [
              "\"\\nExplanation:\\ncross_val_score: This function automatically performs the cross-validation process. It fits the model on the training set and evaluates it on the validation set for each fold.\\ncv=kf: Here, kf is the KFold object, which determines how the data is split.\\nscoring='accuracy': Specifies that we want to measure the accuracy of the model for each fold.\\nnp.mean(scores): Computes the mean accuracy across all folds.\\nnp.std(scores): Computes the standard deviation of accuracy across all folds, giving an idea of the variance in model performance.\\nOutput:\\nThe output will be a set of accuracy scores, one for each fold, along with the mean and standard deviation of these scores. This information helps in understanding how well the model is likely to perform on unseen data.\\n\\nSummary:\\nCross-validation, particularly K-Fold Cross-Validation, is a powerful technique to evaluate the performance of a machine learning model. It helps in ensuring that the model generalizes well to new data by using multiple train-test splits. Python's scikit-learn library makes it easy to implement and analyze the results of cross-validation.\\n\""
            ],
            "application/vnd.google.colaboratory.intrinsic+json": {
              "type": "string"
            }
          },
          "metadata": {},
          "execution_count": 38
        }
      ]
    },
    {
      "cell_type": "markdown",
      "source": [
        "Your concern is a common misunderstanding about how cross-validation works, but it’s important to clarify why cross-validation does not actually harm generalization.\n",
        "\n",
        "### Key Points about Cross-Validation and Generalization:\n",
        "\n",
        "1. **Independent Training for Each Fold**:\n",
        "   - In cross-validation, each iteration (or fold) is independent. When a specific subset is used for validation, the model is trained **only** on the other subsets. The weights or parameters learned from one fold are not carried over to the next fold. Thus, when a subset that was previously used for training is now used for validation, it is as if the model has never seen that data before.\n",
        "   - Essentially, the model is re-initialized and retrained from scratch for each fold, so the fact that a subset was used in training during a different fold does not impact its performance when it is used as the validation set.\n",
        "\n",
        "2. **The Goal of Cross-Validation**:\n",
        "   - The primary purpose of cross-validation is to assess the model's ability to generalize to unseen data by ensuring that every data point in the dataset has been used both for training and for validation. This process provides a more robust estimate of the model's performance across different subsets of the data.\n",
        "   - By averaging the performance across all folds, cross-validation provides a more accurate and less biased estimate of the model's generalization ability compared to a single train/test split.\n",
        "\n",
        "3. **Data Leakage Is Prevented**:\n",
        "   - Cross-validation is designed to prevent data leakage, which would occur if information from the validation set were inadvertently used during training. Since each fold is trained independently, the model does not have access to the validation data when it's being trained.\n",
        "   - The model is only evaluated on the validation set after the training process is complete for each fold, meaning it cannot \"learn\" from the validation data.\n",
        "\n",
        "### How Cross-Validation Enhances Generalization:\n",
        "\n",
        "- **Avoids Overfitting to a Single Split**: Using a single train/test split can lead to overfitting, especially if the split is not representative of the entire dataset. Cross-validation mitigates this risk by ensuring that the model is tested on different subsets, giving a more reliable estimate of its performance.\n",
        "  \n",
        "- **Utilizes All Data**: In small datasets, cross-validation is particularly beneficial because it allows the model to be trained on almost all available data (across different folds), thus maximizing the use of the dataset while still providing an evaluation on unseen data.\n",
        "\n",
        "### Example to Illustrate:\n",
        "\n",
        "Let’s say you have a dataset with 1000 samples and you perform 5-fold cross-validation:\n",
        "- **Fold 1**: Train on samples 1-800, validate on 801-1000.\n",
        "- **Fold 2**: Train on samples 201-1000 and 1-200, validate on 201-400.\n",
        "- **Fold 3**: Train on samples 401-1000 and 1-400, validate on 401-600.\n",
        "- **Fold 4**: Train on samples 601-1000 and 1-600, validate on 601-800.\n",
        "- **Fold 5**: Train on samples 801-1000 and 1-800, validate on 1-200.\n",
        "\n",
        "Each validation fold is unseen to the model during the corresponding training phase. The model is reset between each fold, ensuring that no information from the validation set influences the training process.\n",
        "\n",
        "### Summary:\n",
        "\n",
        "Cross-validation is actually beneficial for generalization because it provides a more accurate estimate of a model's performance across different subsets of the data. It ensures that every data point is used both for training and validation, reducing the risk of overfitting and providing a reliable measure of how well the model will perform on truly unseen data.\n",
        "\n",
        "There seems to be a misunderstanding in the description for Fold 2. Let's go through the correct setup for Fold 2 in a 5-fold cross-validation scenario:\n",
        "\n",
        "There seems to be a misunderstanding in the description for Fold 2. Let's go through the correct setup for Fold 2 in a 5-fold cross-validation scenario:\n",
        "\n",
        "### 5-Fold Cross-Validation Setup\n",
        "\n",
        "1. **Total Number of Data Points**: 1-1000\n",
        "2. **Number of Folds (`k`)**: 5\n",
        "3. **Data Points per Fold**: 1000/5 = 200 data points per fold\n",
        "\n",
        "### Correct Setup for Fold 2\n",
        "\n",
        "- **Training Data for Fold 2**: The model is trained on all data points **except** those in the validation set for Fold 2.\n",
        "  - **Training Data**: Data points from 1-200 and 401-1000.\n",
        "  - **Validation Data**: Data points from 201-400.\n",
        "\n",
        "### Summary for Fold 2:\n",
        "- **Training Data Points**: 1-200 and 401-1000 (a total of 800 data points).\n",
        "- **Validation Data Points**: 201-400 (a total of 200 data points).\n",
        "\n",
        "### Clarification:\n",
        "- The training data for Fold 2 consists of **two segments**: the data points before the validation set (1-200) and the data points after the validation set (401-1000).\n",
        "- The validation data for Fold 2 is the subset of data points from 201-400, which the model does not see during the training phase of Fold 2.\n",
        "\n",
        "This ensures that the validation data (201-400) is not used during training in Fold 2, maintaining the integrity of the cross-validation process and preventing data leakage."
      ],
      "metadata": {
        "id": "MYa4KMHhqAu6"
      }
    },
    {
      "cell_type": "markdown",
      "source": [
        "What is Leave-One-Out Cross-Validation (LOOCV)?\n",
        "Leave-One-Out Cross-Validation (LOOCV) is a special case of K-Fold Cross-Validation where the number of folds k is equal to the number of data points in the dataset. This means that in each iteration, one data point is used as the validation set, and the remaining n-1 data points are used as the training set. This process is repeated for each data point in the dataset, resulting in n training/validation iterations.\n",
        "\n",
        "\n",
        "###Advantages of LOOCV:\n",
        "\n",
        "Maximizes Training Data: Each model is trained on almost all available data (n-1 samples).\n",
        "\n",
        "No Randomness: Since every data point is used as a validation point exactly once, there is no randomness involved, leading to a deterministic evaluation.\n",
        "\n",
        "\n",
        "\n",
        "###Disadvantages of LOOCV:\n",
        "Computationally Expensive: For large datasets, LOOCV can be very computationally expensive because it requires training the model n times.\n",
        "\n",
        "High Variance: Since each validation set contains only one data point, the performance of the model can vary significantly between iterations, leading to high variance in the validation score."
      ],
      "metadata": {
        "id": "pIXtMuXruLfl"
      }
    },
    {
      "cell_type": "code",
      "source": [
        "'''\n",
        "import numpy as np\n",
        "from sklearn.datasets import load_iris\n",
        "from sklearn.model_selection import LeaveOneOut, cross_val_score\n",
        "from sklearn.ensemble import RandomForestClassifier\n",
        "# Load the Iris dataset\n",
        "iris = load_iris()\n",
        "X = iris.data  # Features\n",
        "y = iris.target  # Target variable (classes)\n",
        "# Define the model\n",
        "model = RandomForestClassifier(random_state=42)\n",
        "# Set up Leave-One-Out Cross-Validation\n",
        "loo = LeaveOneOut()\n",
        "# Perform LOOCV\n",
        "scores = cross_val_score(model, X, y, cv=loo, scoring='accuracy')\n",
        "\n",
        "# Output the results\n",
        "print(\"Number of Iterations:\", len(scores))\n",
        "print(\"Accuracy for each iteration:\", scores)\n",
        "print(\"Mean Accuracy:\", np.mean(scores))\n",
        "'''\n",
        "'''\n",
        "Explanation:\n",
        "LeaveOneOut(): Creates a cross-validation object that performs LOOCV.\n",
        "cross_val_score(): This function performs the cross-validation process. It trains the model on n-1 data points and validates on the remaining 1 data point for each iteration.\n",
        "scoring='accuracy': Specifies that we want to measure the accuracy of the model for each iteration.\n",
        "np.mean(scores): Computes the mean accuracy across all iterations.\n",
        "'''"
      ],
      "metadata": {
        "id": "8M8HtboHqBhy",
        "colab": {
          "base_uri": "https://localhost:8080/",
          "height": 70
        },
        "outputId": "615ea480-aa9b-47d6-dd23-fb1b418fc75a"
      },
      "execution_count": 39,
      "outputs": [
        {
          "output_type": "execute_result",
          "data": {
            "text/plain": [
              "\"\\nExplanation:\\nLeaveOneOut(): Creates a cross-validation object that performs LOOCV.\\ncross_val_score(): This function performs the cross-validation process. It trains the model on n-1 data points and validates on the remaining 1 data point for each iteration.\\nscoring='accuracy': Specifies that we want to measure the accuracy of the model for each iteration.\\nnp.mean(scores): Computes the mean accuracy across all iterations.\\n\""
            ],
            "application/vnd.google.colaboratory.intrinsic+json": {
              "type": "string"
            }
          },
          "metadata": {},
          "execution_count": 39
        }
      ]
    },
    {
      "cell_type": "markdown",
      "source": [
        "What is Time Series Cross-Validation?\n",
        "Time Series Cross-Validation is a specialized version of cross-validation designed to handle the temporal nature of time series data. In time series data, the order of observations matters, and future values depend on past values. Thus, the typical cross-validation approach that randomly shuffles and splits the data is not suitable, as it can lead to information leakage from future data into the training set.\n",
        "\n",
        "How Time Series Cross-Validation Works:\n",
        "Expanding Window (Forward Chaining):\n",
        "\n",
        "In this approach, the training set grows with each fold, incorporating more data over time. The validation set is always ahead in time, and the training set includes all past data up to that point.\n",
        "Sliding Window:\n",
        "\n",
        "In this approach, a fixed-size window slides over the data. The model is trained on data within the window and validated on data just ahead of the window. This method keeps the size of the training data constant, but it might discard valuable historical data."
      ],
      "metadata": {
        "id": "PF3y8Bv65Tcc"
      }
    },
    {
      "cell_type": "markdown",
      "source": [
        "Overview of Hyperparameter Optimization Methods:\n",
        "When training machine learning models, selecting the best set of hyperparameters (parameters not learned directly from the training process) is crucial for achieving optimal performance. Various techniques can be used for hyperparameter tuning, including Grid Search, Random Search, Bayesian Optimization, and more advanced methods like Adam Optimization. Let's explore each method with explanations and examples in Python.\n",
        "\n",
        "1. Grid Search\n",
        "Grid Search exhaustively searches through a manually specified subset of the hyperparameter space. It tries every possible combination of hyperparameter values provided."
      ],
      "metadata": {
        "id": "h1F9hS3PBb92"
      }
    },
    {
      "cell_type": "code",
      "source": [
        "'''\n",
        "from sklearn.model_selection import GridSearchCV\n",
        "from sklearn.ensemble import RandomForestClassifier\n",
        "from sklearn.datasets import load_iris\n",
        "\n",
        "# Load the dataset\n",
        "iris = load_iris()\n",
        "X, y = iris.data, iris.target\n",
        "\n",
        "# Define the model\n",
        "model = RandomForestClassifier(random_state=42)\n",
        "\n",
        "# Define the grid of hyperparameters\n",
        "param_grid = {\n",
        "    'n_estimators': [10, 50, 100],\n",
        "    'max_depth': [None, 10, 20],\n",
        "    'min_samples_split': [2, 5, 10]\n",
        "}\n",
        "\n",
        "# Set up GridSearchCV\n",
        "grid_search = GridSearchCV(estimator=model, param_grid=param_grid, cv=5, scoring='accuracy')\n",
        "\n",
        "# Fit the model\n",
        "grid_search.fit(X, y)\n",
        "\n",
        "# Best parameters and score\n",
        "print(\"Best parameters:\", grid_search.best_params_)\n",
        "print(\"Best cross-validation score:\", grid_search.best_score_)\n",
        "'''"
      ],
      "metadata": {
        "id": "R5ia_P9w5U0U",
        "colab": {
          "base_uri": "https://localhost:8080/",
          "height": 105
        },
        "outputId": "54c97527-f9f5-4483-9c10-e539182ae9ad"
      },
      "execution_count": 40,
      "outputs": [
        {
          "output_type": "execute_result",
          "data": {
            "text/plain": [
              "'\\nfrom sklearn.model_selection import GridSearchCV\\nfrom sklearn.ensemble import RandomForestClassifier\\nfrom sklearn.datasets import load_iris\\n\\n# Load the dataset\\niris = load_iris()\\nX, y = iris.data, iris.target\\n\\n# Define the model\\nmodel = RandomForestClassifier(random_state=42)\\n\\n# Define the grid of hyperparameters\\nparam_grid = {\\n    \\'n_estimators\\': [10, 50, 100],\\n    \\'max_depth\\': [None, 10, 20],\\n    \\'min_samples_split\\': [2, 5, 10]\\n}\\n\\n# Set up GridSearchCV\\ngrid_search = GridSearchCV(estimator=model, param_grid=param_grid, cv=5, scoring=\\'accuracy\\')\\n\\n# Fit the model\\ngrid_search.fit(X, y)\\n\\n# Best parameters and score\\nprint(\"Best parameters:\", grid_search.best_params_)\\nprint(\"Best cross-validation score:\", grid_search.best_score_)\\n'"
            ],
            "application/vnd.google.colaboratory.intrinsic+json": {
              "type": "string"
            }
          },
          "metadata": {},
          "execution_count": 40
        }
      ]
    },
    {
      "cell_type": "markdown",
      "source": [
        "2. Random Search\n",
        "Random Search selects random combinations of hyperparameters from a given range. Unlike Grid Search, it doesn't evaluate every possible combination, making it more efficient for large hyperparameter spaces."
      ],
      "metadata": {
        "id": "GBD51IPdBjYd"
      }
    },
    {
      "cell_type": "code",
      "source": [
        "'''\n",
        "from sklearn.model_selection import RandomizedSearchCV\n",
        "from sklearn.ensemble import RandomForestClassifier\n",
        "from sklearn.datasets import load_iris\n",
        "import numpy as np\n",
        "\n",
        "# Load the dataset\n",
        "iris = load_iris()\n",
        "X, y = iris.data, iris.target\n",
        "\n",
        "# Define the model\n",
        "model = RandomForestClassifier(random_state=42)\n",
        "\n",
        "# Define the grid of hyperparameters\n",
        "param_dist = {\n",
        "    'n_estimators': [int(x) for x in np.linspace(start=10, stop=200, num=10)],\n",
        "    'max_depth': [None, 10, 20, 30, 40, 50],\n",
        "    'min_samples_split': [2, 5, 10],\n",
        "    'bootstrap': [True, False]\n",
        "}\n",
        "\n",
        "# Set up RandomizedSearchCV\n",
        "random_search = RandomizedSearchCV(estimator=model, param_distributions=param_dist, n_iter=10, cv=5, scoring='accuracy', random_state=42)\n",
        "\n",
        "# Fit the model\n",
        "random_search.fit(X, y)\n",
        "\n",
        "# Best parameters and score\n",
        "print(\"Best parameters:\", random_search.best_params_)\n",
        "print(\"Best cross-validation score:\", random_search.best_score_)\n",
        "'''"
      ],
      "metadata": {
        "id": "1BX7LsMJBkV6",
        "colab": {
          "base_uri": "https://localhost:8080/",
          "height": 122
        },
        "outputId": "a2e14200-d2ac-4553-a31c-2f928832c98c"
      },
      "execution_count": 41,
      "outputs": [
        {
          "output_type": "execute_result",
          "data": {
            "text/plain": [
              "'\\nfrom sklearn.model_selection import RandomizedSearchCV\\nfrom sklearn.ensemble import RandomForestClassifier\\nfrom sklearn.datasets import load_iris\\nimport numpy as np\\n\\n# Load the dataset\\niris = load_iris()\\nX, y = iris.data, iris.target\\n\\n# Define the model\\nmodel = RandomForestClassifier(random_state=42)\\n\\n# Define the grid of hyperparameters\\nparam_dist = {\\n    \\'n_estimators\\': [int(x) for x in np.linspace(start=10, stop=200, num=10)],\\n    \\'max_depth\\': [None, 10, 20, 30, 40, 50],\\n    \\'min_samples_split\\': [2, 5, 10],\\n    \\'bootstrap\\': [True, False]\\n}\\n\\n# Set up RandomizedSearchCV\\nrandom_search = RandomizedSearchCV(estimator=model, param_distributions=param_dist, n_iter=10, cv=5, scoring=\\'accuracy\\', random_state=42)\\n\\n# Fit the model\\nrandom_search.fit(X, y)\\n\\n# Best parameters and score\\nprint(\"Best parameters:\", random_search.best_params_)\\nprint(\"Best cross-validation score:\", random_search.best_score_)\\n'"
            ],
            "application/vnd.google.colaboratory.intrinsic+json": {
              "type": "string"
            }
          },
          "metadata": {},
          "execution_count": 41
        }
      ]
    },
    {
      "cell_type": "markdown",
      "source": [
        "3. Bayesian Optimization\n",
        "Bayesian Optimization is an advanced method that builds a probabilistic model (usually a Gaussian process) to estimate the function mapping hyperparameters to the performance metric. It then selects hyperparameters that are likely to improve the model's performance, balancing exploration and exploitation.\n",
        "\n",
        "Example in Python with scikit-optimize:"
      ],
      "metadata": {
        "id": "F8J8tZ8SBpzG"
      }
    },
    {
      "cell_type": "code",
      "source": [
        "'''\n",
        "from skopt import BayesSearchCV\n",
        "from sklearn.ensemble import RandomForestClassifier\n",
        "from sklearn.datasets import load_iris\n",
        "\n",
        "# Load the dataset\n",
        "iris = load_iris()\n",
        "X, y = iris.data, iris.target\n",
        "\n",
        "# Define the model\n",
        "model = RandomForestClassifier(random_state=42)\n",
        "\n",
        "# Define the hyperparameter space\n",
        "param_space = {\n",
        "    'n_estimators': (10, 200),\n",
        "    'max_depth': (1, 50),\n",
        "    'min_samples_split': (2, 20)\n",
        "}\n",
        "\n",
        "# Set up BayesSearchCV\n",
        "bayes_search = BayesSearchCV(estimator=model, search_spaces=param_space, n_iter=32, cv=5, scoring='accuracy', random_state=42)\n",
        "\n",
        "# Fit the model\n",
        "bayes_search.fit(X, y)\n",
        "\n",
        "# Best parameters and score\n",
        "print(\"Best parameters:\", bayes_search.best_params_)\n",
        "print(\"Best cross-validation score:\", bayes_search.best_score_)\n",
        "\n",
        "'''"
      ],
      "metadata": {
        "id": "CzmEI768Btna",
        "colab": {
          "base_uri": "https://localhost:8080/",
          "height": 105
        },
        "outputId": "ebbdc1bd-2d5a-4fea-eeb1-ca1bda8002e1"
      },
      "execution_count": 42,
      "outputs": [
        {
          "output_type": "execute_result",
          "data": {
            "text/plain": [
              "'\\nfrom skopt import BayesSearchCV\\nfrom sklearn.ensemble import RandomForestClassifier\\nfrom sklearn.datasets import load_iris\\n\\n# Load the dataset\\niris = load_iris()\\nX, y = iris.data, iris.target\\n\\n# Define the model\\nmodel = RandomForestClassifier(random_state=42)\\n\\n# Define the hyperparameter space\\nparam_space = {\\n    \\'n_estimators\\': (10, 200),\\n    \\'max_depth\\': (1, 50),\\n    \\'min_samples_split\\': (2, 20)\\n}\\n\\n# Set up BayesSearchCV\\nbayes_search = BayesSearchCV(estimator=model, search_spaces=param_space, n_iter=32, cv=5, scoring=\\'accuracy\\', random_state=42)\\n\\n# Fit the model\\nbayes_search.fit(X, y)\\n\\n# Best parameters and score\\nprint(\"Best parameters:\", bayes_search.best_params_)\\nprint(\"Best cross-validation score:\", bayes_search.best_score_)\\n\\n'"
            ],
            "application/vnd.google.colaboratory.intrinsic+json": {
              "type": "string"
            }
          },
          "metadata": {},
          "execution_count": 42
        }
      ]
    },
    {
      "cell_type": "markdown",
      "source": [
        "4. Adam Optimization\n",
        "Adam Optimization is an optimization algorithm often used for training deep learning models, especially in neural networks. It combines the advantages of the Adaptive Gradient Algorithm (AdaGrad) and Root Mean Square Propagation (RMSProp). Adam is used in the training process to update network weights iteratively, aiming to minimize the loss function.\n",
        "\n"
      ],
      "metadata": {
        "id": "wL2ANA3XBx-J"
      }
    },
    {
      "cell_type": "code",
      "source": [
        "'''\n",
        "import tensorflow as tf\n",
        "from tensorflow.keras.models import Sequential\n",
        "from tensorflow.keras.layers import Dense\n",
        "from tensorflow.keras.optimizers import Adam\n",
        "\n",
        "# Generate synthetic data\n",
        "X = np.random.rand(1000, 10)\n",
        "y = np.random.randint(0, 2, 1000)\n",
        "\n",
        "# Define the model\n",
        "model = Sequential([\n",
        "    Dense(64, input_dim=10, activation='relu'),\n",
        "    Dense(32, activation='relu'),\n",
        "    Dense(1, activation='sigmoid')\n",
        "])\n",
        "\n",
        "# Compile the model with Adam optimizer\n",
        "model.compile(optimizer=Adam(learning_rate=0.001), loss='binary_crossentropy', metrics=['accuracy'])\n",
        "\n",
        "# Train the model\n",
        "model.fit(X, y, epochs=20, batch_size=32, validation_split=0.2)\n",
        "\n",
        "'''"
      ],
      "metadata": {
        "id": "shYlvqxdB2xK",
        "colab": {
          "base_uri": "https://localhost:8080/",
          "height": 105
        },
        "outputId": "3699f0bb-c6f7-4902-a894-acad2a831278"
      },
      "execution_count": 43,
      "outputs": [
        {
          "output_type": "execute_result",
          "data": {
            "text/plain": [
              "\"\\nimport tensorflow as tf\\nfrom tensorflow.keras.models import Sequential\\nfrom tensorflow.keras.layers import Dense\\nfrom tensorflow.keras.optimizers import Adam\\n\\n# Generate synthetic data\\nX = np.random.rand(1000, 10)\\ny = np.random.randint(0, 2, 1000)\\n\\n# Define the model\\nmodel = Sequential([\\n    Dense(64, input_dim=10, activation='relu'),\\n    Dense(32, activation='relu'),\\n    Dense(1, activation='sigmoid')\\n])\\n\\n# Compile the model with Adam optimizer\\nmodel.compile(optimizer=Adam(learning_rate=0.001), loss='binary_crossentropy', metrics=['accuracy'])\\n\\n# Train the model\\nmodel.fit(X, y, epochs=20, batch_size=32, validation_split=0.2)\\n\\n\""
            ],
            "application/vnd.google.colaboratory.intrinsic+json": {
              "type": "string"
            }
          },
          "metadata": {},
          "execution_count": 43
        }
      ]
    },
    {
      "cell_type": "markdown",
      "source": [
        "1. n_iter (Number of Iterations)\n",
        "Purpose: The n_iter parameter defines the number of iterations the search algorithm will perform. In the context of RandomizedSearchCV or BayesSearchCV, it specifies how many different sets of hyperparameters will be sampled and evaluated.\n",
        "\n",
        "Why it’s Important:\n",
        "\n",
        "In RandomizedSearchCV: Since the search is random, specifying n_iter allows you to control how many random combinations will be tried. More iterations increase the chances of finding a good set of hyperparameters but also increase computational cost.\n",
        "In BayesSearchCV: Bayesian Optimization is more efficient, but n_iter still controls how many different hyperparameter sets the algorithm will explore. More iterations allow the probabilistic model to better explore the hyperparameter space."
      ],
      "metadata": {
        "id": "gSTpWfVkCAde"
      }
    },
    {
      "cell_type": "code",
      "source": [
        "#Example in RandomizedSearchCV:\n",
        "# random_search = RandomizedSearchCV(estimator=model, param_distributions=param_dist, n_iter=10, cv=5, scoring='accuracy', random_state=42)\n",
        "#Here, n_iter=10 means that RandomizedSearchCV will try 10 different combinations of hyperparameters.\n",
        "\n",
        "# Example in BayesSearchCV:\n",
        "# bayes_search = BayesSearchCV(estimator=model, search_spaces=param_space, n_iter=32, cv=5, scoring='accuracy', random_state=42)\n",
        "# Here, n_iter=32 means that BayesSearchCV will evaluate 32 different sets of hyperparameters.\n",
        "\n",
        "'''\n",
        "n_iter controls how many different hyperparameter combinations the search algorithm will explore. More iterations can lead to better results but at the cost of increased\n",
        "computational time.\n",
        "'''"
      ],
      "metadata": {
        "id": "_xQY01FBCBlH",
        "colab": {
          "base_uri": "https://localhost:8080/",
          "height": 53
        },
        "outputId": "9542e48e-f9ee-4a89-ddba-510ca867cba8"
      },
      "execution_count": 44,
      "outputs": [
        {
          "output_type": "execute_result",
          "data": {
            "text/plain": [
              "'\\nn_iter controls how many different hyperparameter combinations the search algorithm will explore. More iterations can lead to better results but at the cost of increased\\ncomputational time.\\n'"
            ],
            "application/vnd.google.colaboratory.intrinsic+json": {
              "type": "string"
            }
          },
          "metadata": {},
          "execution_count": 44
        }
      ]
    },
    {
      "cell_type": "code",
      "source": [
        "X.head()"
      ],
      "metadata": {
        "id": "bRaaJiVRCkVJ",
        "colab": {
          "base_uri": "https://localhost:8080/",
          "height": 290
        },
        "outputId": "8d0096b6-873d-47aa-b721-b17b5f1e08ea"
      },
      "execution_count": 45,
      "outputs": [
        {
          "output_type": "execute_result",
          "data": {
            "text/plain": [
              "   Total_Stops  Journey_Date  Journey_Day  Journey_Month  Dep_Hour  \\\n",
              "0            0            24            6              3        22   \n",
              "1            2             1            2              5         5   \n",
              "2            2             9            6              6         9   \n",
              "3            1            12            6              5        18   \n",
              "4            1             1            4              3        16   \n",
              "\n",
              "   Duration_minutes  Airline_Air India  Airline_GoAir  Airline_IndiGo  \\\n",
              "0               170              False          False            True   \n",
              "1               445               True          False           False   \n",
              "2              1140              False          False           False   \n",
              "3               325              False          False            True   \n",
              "4               285              False          False            True   \n",
              "\n",
              "   Airline_Jet Airways  ...  Source_Mumbai  Destination_Cochin  \\\n",
              "0                False  ...          False               False   \n",
              "1                False  ...          False               False   \n",
              "2                 True  ...          False                True   \n",
              "3                False  ...          False               False   \n",
              "4                False  ...          False               False   \n",
              "\n",
              "   Destination_Delhi  Destination_Hyderabad  Destination_Kolkata  \\\n",
              "0              False                  False                False   \n",
              "1              False                  False                False   \n",
              "2              False                  False                False   \n",
              "3              False                  False                False   \n",
              "4              False                  False                False   \n",
              "\n",
              "   Destination_New Delhi  Additional_Info_Business class  \\\n",
              "0                   True                           False   \n",
              "1                  False                           False   \n",
              "2                  False                           False   \n",
              "3                  False                           False   \n",
              "4                   True                           False   \n",
              "\n",
              "   Additional_Info_Change airports  \\\n",
              "0                            False   \n",
              "1                            False   \n",
              "2                            False   \n",
              "3                            False   \n",
              "4                            False   \n",
              "\n",
              "   Additional_Info_In-flight meal not included  \\\n",
              "0                                        False   \n",
              "1                                        False   \n",
              "2                                        False   \n",
              "3                                        False   \n",
              "4                                        False   \n",
              "\n",
              "   Additional_Info_No check-in baggage included  \n",
              "0                                         False  \n",
              "1                                         False  \n",
              "2                                         False  \n",
              "3                                         False  \n",
              "4                                         False  \n",
              "\n",
              "[5 rows x 29 columns]"
            ],
            "text/html": [
              "\n",
              "  <div id=\"df-837460af-3f1c-4757-bf97-05828e80eef9\" class=\"colab-df-container\">\n",
              "    <div>\n",
              "<style scoped>\n",
              "    .dataframe tbody tr th:only-of-type {\n",
              "        vertical-align: middle;\n",
              "    }\n",
              "\n",
              "    .dataframe tbody tr th {\n",
              "        vertical-align: top;\n",
              "    }\n",
              "\n",
              "    .dataframe thead th {\n",
              "        text-align: right;\n",
              "    }\n",
              "</style>\n",
              "<table border=\"1\" class=\"dataframe\">\n",
              "  <thead>\n",
              "    <tr style=\"text-align: right;\">\n",
              "      <th></th>\n",
              "      <th>Total_Stops</th>\n",
              "      <th>Journey_Date</th>\n",
              "      <th>Journey_Day</th>\n",
              "      <th>Journey_Month</th>\n",
              "      <th>Dep_Hour</th>\n",
              "      <th>Duration_minutes</th>\n",
              "      <th>Airline_Air India</th>\n",
              "      <th>Airline_GoAir</th>\n",
              "      <th>Airline_IndiGo</th>\n",
              "      <th>Airline_Jet Airways</th>\n",
              "      <th>...</th>\n",
              "      <th>Source_Mumbai</th>\n",
              "      <th>Destination_Cochin</th>\n",
              "      <th>Destination_Delhi</th>\n",
              "      <th>Destination_Hyderabad</th>\n",
              "      <th>Destination_Kolkata</th>\n",
              "      <th>Destination_New Delhi</th>\n",
              "      <th>Additional_Info_Business class</th>\n",
              "      <th>Additional_Info_Change airports</th>\n",
              "      <th>Additional_Info_In-flight meal not included</th>\n",
              "      <th>Additional_Info_No check-in baggage included</th>\n",
              "    </tr>\n",
              "  </thead>\n",
              "  <tbody>\n",
              "    <tr>\n",
              "      <th>0</th>\n",
              "      <td>0</td>\n",
              "      <td>24</td>\n",
              "      <td>6</td>\n",
              "      <td>3</td>\n",
              "      <td>22</td>\n",
              "      <td>170</td>\n",
              "      <td>False</td>\n",
              "      <td>False</td>\n",
              "      <td>True</td>\n",
              "      <td>False</td>\n",
              "      <td>...</td>\n",
              "      <td>False</td>\n",
              "      <td>False</td>\n",
              "      <td>False</td>\n",
              "      <td>False</td>\n",
              "      <td>False</td>\n",
              "      <td>True</td>\n",
              "      <td>False</td>\n",
              "      <td>False</td>\n",
              "      <td>False</td>\n",
              "      <td>False</td>\n",
              "    </tr>\n",
              "    <tr>\n",
              "      <th>1</th>\n",
              "      <td>2</td>\n",
              "      <td>1</td>\n",
              "      <td>2</td>\n",
              "      <td>5</td>\n",
              "      <td>5</td>\n",
              "      <td>445</td>\n",
              "      <td>True</td>\n",
              "      <td>False</td>\n",
              "      <td>False</td>\n",
              "      <td>False</td>\n",
              "      <td>...</td>\n",
              "      <td>False</td>\n",
              "      <td>False</td>\n",
              "      <td>False</td>\n",
              "      <td>False</td>\n",
              "      <td>False</td>\n",
              "      <td>False</td>\n",
              "      <td>False</td>\n",
              "      <td>False</td>\n",
              "      <td>False</td>\n",
              "      <td>False</td>\n",
              "    </tr>\n",
              "    <tr>\n",
              "      <th>2</th>\n",
              "      <td>2</td>\n",
              "      <td>9</td>\n",
              "      <td>6</td>\n",
              "      <td>6</td>\n",
              "      <td>9</td>\n",
              "      <td>1140</td>\n",
              "      <td>False</td>\n",
              "      <td>False</td>\n",
              "      <td>False</td>\n",
              "      <td>True</td>\n",
              "      <td>...</td>\n",
              "      <td>False</td>\n",
              "      <td>True</td>\n",
              "      <td>False</td>\n",
              "      <td>False</td>\n",
              "      <td>False</td>\n",
              "      <td>False</td>\n",
              "      <td>False</td>\n",
              "      <td>False</td>\n",
              "      <td>False</td>\n",
              "      <td>False</td>\n",
              "    </tr>\n",
              "    <tr>\n",
              "      <th>3</th>\n",
              "      <td>1</td>\n",
              "      <td>12</td>\n",
              "      <td>6</td>\n",
              "      <td>5</td>\n",
              "      <td>18</td>\n",
              "      <td>325</td>\n",
              "      <td>False</td>\n",
              "      <td>False</td>\n",
              "      <td>True</td>\n",
              "      <td>False</td>\n",
              "      <td>...</td>\n",
              "      <td>False</td>\n",
              "      <td>False</td>\n",
              "      <td>False</td>\n",
              "      <td>False</td>\n",
              "      <td>False</td>\n",
              "      <td>False</td>\n",
              "      <td>False</td>\n",
              "      <td>False</td>\n",
              "      <td>False</td>\n",
              "      <td>False</td>\n",
              "    </tr>\n",
              "    <tr>\n",
              "      <th>4</th>\n",
              "      <td>1</td>\n",
              "      <td>1</td>\n",
              "      <td>4</td>\n",
              "      <td>3</td>\n",
              "      <td>16</td>\n",
              "      <td>285</td>\n",
              "      <td>False</td>\n",
              "      <td>False</td>\n",
              "      <td>True</td>\n",
              "      <td>False</td>\n",
              "      <td>...</td>\n",
              "      <td>False</td>\n",
              "      <td>False</td>\n",
              "      <td>False</td>\n",
              "      <td>False</td>\n",
              "      <td>False</td>\n",
              "      <td>True</td>\n",
              "      <td>False</td>\n",
              "      <td>False</td>\n",
              "      <td>False</td>\n",
              "      <td>False</td>\n",
              "    </tr>\n",
              "  </tbody>\n",
              "</table>\n",
              "<p>5 rows × 29 columns</p>\n",
              "</div>\n",
              "    <div class=\"colab-df-buttons\">\n",
              "\n",
              "  <div class=\"colab-df-container\">\n",
              "    <button class=\"colab-df-convert\" onclick=\"convertToInteractive('df-837460af-3f1c-4757-bf97-05828e80eef9')\"\n",
              "            title=\"Convert this dataframe to an interactive table.\"\n",
              "            style=\"display:none;\">\n",
              "\n",
              "  <svg xmlns=\"http://www.w3.org/2000/svg\" height=\"24px\" viewBox=\"0 -960 960 960\">\n",
              "    <path d=\"M120-120v-720h720v720H120Zm60-500h600v-160H180v160Zm220 220h160v-160H400v160Zm0 220h160v-160H400v160ZM180-400h160v-160H180v160Zm440 0h160v-160H620v160ZM180-180h160v-160H180v160Zm440 0h160v-160H620v160Z\"/>\n",
              "  </svg>\n",
              "    </button>\n",
              "\n",
              "  <style>\n",
              "    .colab-df-container {\n",
              "      display:flex;\n",
              "      gap: 12px;\n",
              "    }\n",
              "\n",
              "    .colab-df-convert {\n",
              "      background-color: #E8F0FE;\n",
              "      border: none;\n",
              "      border-radius: 50%;\n",
              "      cursor: pointer;\n",
              "      display: none;\n",
              "      fill: #1967D2;\n",
              "      height: 32px;\n",
              "      padding: 0 0 0 0;\n",
              "      width: 32px;\n",
              "    }\n",
              "\n",
              "    .colab-df-convert:hover {\n",
              "      background-color: #E2EBFA;\n",
              "      box-shadow: 0px 1px 2px rgba(60, 64, 67, 0.3), 0px 1px 3px 1px rgba(60, 64, 67, 0.15);\n",
              "      fill: #174EA6;\n",
              "    }\n",
              "\n",
              "    .colab-df-buttons div {\n",
              "      margin-bottom: 4px;\n",
              "    }\n",
              "\n",
              "    [theme=dark] .colab-df-convert {\n",
              "      background-color: #3B4455;\n",
              "      fill: #D2E3FC;\n",
              "    }\n",
              "\n",
              "    [theme=dark] .colab-df-convert:hover {\n",
              "      background-color: #434B5C;\n",
              "      box-shadow: 0px 1px 3px 1px rgba(0, 0, 0, 0.15);\n",
              "      filter: drop-shadow(0px 1px 2px rgba(0, 0, 0, 0.3));\n",
              "      fill: #FFFFFF;\n",
              "    }\n",
              "  </style>\n",
              "\n",
              "    <script>\n",
              "      const buttonEl =\n",
              "        document.querySelector('#df-837460af-3f1c-4757-bf97-05828e80eef9 button.colab-df-convert');\n",
              "      buttonEl.style.display =\n",
              "        google.colab.kernel.accessAllowed ? 'block' : 'none';\n",
              "\n",
              "      async function convertToInteractive(key) {\n",
              "        const element = document.querySelector('#df-837460af-3f1c-4757-bf97-05828e80eef9');\n",
              "        const dataTable =\n",
              "          await google.colab.kernel.invokeFunction('convertToInteractive',\n",
              "                                                    [key], {});\n",
              "        if (!dataTable) return;\n",
              "\n",
              "        const docLinkHtml = 'Like what you see? Visit the ' +\n",
              "          '<a target=\"_blank\" href=https://colab.research.google.com/notebooks/data_table.ipynb>data table notebook</a>'\n",
              "          + ' to learn more about interactive tables.';\n",
              "        element.innerHTML = '';\n",
              "        dataTable['output_type'] = 'display_data';\n",
              "        await google.colab.output.renderOutput(dataTable, element);\n",
              "        const docLink = document.createElement('div');\n",
              "        docLink.innerHTML = docLinkHtml;\n",
              "        element.appendChild(docLink);\n",
              "      }\n",
              "    </script>\n",
              "  </div>\n",
              "\n",
              "\n",
              "<div id=\"df-4cf3b8a9-d0ce-4501-a71c-fd7423950d71\">\n",
              "  <button class=\"colab-df-quickchart\" onclick=\"quickchart('df-4cf3b8a9-d0ce-4501-a71c-fd7423950d71')\"\n",
              "            title=\"Suggest charts\"\n",
              "            style=\"display:none;\">\n",
              "\n",
              "<svg xmlns=\"http://www.w3.org/2000/svg\" height=\"24px\"viewBox=\"0 0 24 24\"\n",
              "     width=\"24px\">\n",
              "    <g>\n",
              "        <path d=\"M19 3H5c-1.1 0-2 .9-2 2v14c0 1.1.9 2 2 2h14c1.1 0 2-.9 2-2V5c0-1.1-.9-2-2-2zM9 17H7v-7h2v7zm4 0h-2V7h2v10zm4 0h-2v-4h2v4z\"/>\n",
              "    </g>\n",
              "</svg>\n",
              "  </button>\n",
              "\n",
              "<style>\n",
              "  .colab-df-quickchart {\n",
              "      --bg-color: #E8F0FE;\n",
              "      --fill-color: #1967D2;\n",
              "      --hover-bg-color: #E2EBFA;\n",
              "      --hover-fill-color: #174EA6;\n",
              "      --disabled-fill-color: #AAA;\n",
              "      --disabled-bg-color: #DDD;\n",
              "  }\n",
              "\n",
              "  [theme=dark] .colab-df-quickchart {\n",
              "      --bg-color: #3B4455;\n",
              "      --fill-color: #D2E3FC;\n",
              "      --hover-bg-color: #434B5C;\n",
              "      --hover-fill-color: #FFFFFF;\n",
              "      --disabled-bg-color: #3B4455;\n",
              "      --disabled-fill-color: #666;\n",
              "  }\n",
              "\n",
              "  .colab-df-quickchart {\n",
              "    background-color: var(--bg-color);\n",
              "    border: none;\n",
              "    border-radius: 50%;\n",
              "    cursor: pointer;\n",
              "    display: none;\n",
              "    fill: var(--fill-color);\n",
              "    height: 32px;\n",
              "    padding: 0;\n",
              "    width: 32px;\n",
              "  }\n",
              "\n",
              "  .colab-df-quickchart:hover {\n",
              "    background-color: var(--hover-bg-color);\n",
              "    box-shadow: 0 1px 2px rgba(60, 64, 67, 0.3), 0 1px 3px 1px rgba(60, 64, 67, 0.15);\n",
              "    fill: var(--button-hover-fill-color);\n",
              "  }\n",
              "\n",
              "  .colab-df-quickchart-complete:disabled,\n",
              "  .colab-df-quickchart-complete:disabled:hover {\n",
              "    background-color: var(--disabled-bg-color);\n",
              "    fill: var(--disabled-fill-color);\n",
              "    box-shadow: none;\n",
              "  }\n",
              "\n",
              "  .colab-df-spinner {\n",
              "    border: 2px solid var(--fill-color);\n",
              "    border-color: transparent;\n",
              "    border-bottom-color: var(--fill-color);\n",
              "    animation:\n",
              "      spin 1s steps(1) infinite;\n",
              "  }\n",
              "\n",
              "  @keyframes spin {\n",
              "    0% {\n",
              "      border-color: transparent;\n",
              "      border-bottom-color: var(--fill-color);\n",
              "      border-left-color: var(--fill-color);\n",
              "    }\n",
              "    20% {\n",
              "      border-color: transparent;\n",
              "      border-left-color: var(--fill-color);\n",
              "      border-top-color: var(--fill-color);\n",
              "    }\n",
              "    30% {\n",
              "      border-color: transparent;\n",
              "      border-left-color: var(--fill-color);\n",
              "      border-top-color: var(--fill-color);\n",
              "      border-right-color: var(--fill-color);\n",
              "    }\n",
              "    40% {\n",
              "      border-color: transparent;\n",
              "      border-right-color: var(--fill-color);\n",
              "      border-top-color: var(--fill-color);\n",
              "    }\n",
              "    60% {\n",
              "      border-color: transparent;\n",
              "      border-right-color: var(--fill-color);\n",
              "    }\n",
              "    80% {\n",
              "      border-color: transparent;\n",
              "      border-right-color: var(--fill-color);\n",
              "      border-bottom-color: var(--fill-color);\n",
              "    }\n",
              "    90% {\n",
              "      border-color: transparent;\n",
              "      border-bottom-color: var(--fill-color);\n",
              "    }\n",
              "  }\n",
              "</style>\n",
              "\n",
              "  <script>\n",
              "    async function quickchart(key) {\n",
              "      const quickchartButtonEl =\n",
              "        document.querySelector('#' + key + ' button');\n",
              "      quickchartButtonEl.disabled = true;  // To prevent multiple clicks.\n",
              "      quickchartButtonEl.classList.add('colab-df-spinner');\n",
              "      try {\n",
              "        const charts = await google.colab.kernel.invokeFunction(\n",
              "            'suggestCharts', [key], {});\n",
              "      } catch (error) {\n",
              "        console.error('Error during call to suggestCharts:', error);\n",
              "      }\n",
              "      quickchartButtonEl.classList.remove('colab-df-spinner');\n",
              "      quickchartButtonEl.classList.add('colab-df-quickchart-complete');\n",
              "    }\n",
              "    (() => {\n",
              "      let quickchartButtonEl =\n",
              "        document.querySelector('#df-4cf3b8a9-d0ce-4501-a71c-fd7423950d71 button');\n",
              "      quickchartButtonEl.style.display =\n",
              "        google.colab.kernel.accessAllowed ? 'block' : 'none';\n",
              "    })();\n",
              "  </script>\n",
              "</div>\n",
              "    </div>\n",
              "  </div>\n"
            ],
            "application/vnd.google.colaboratory.intrinsic+json": {
              "type": "dataframe",
              "variable_name": "X"
            }
          },
          "metadata": {},
          "execution_count": 45
        }
      ]
    },
    {
      "cell_type": "code",
      "source": [
        "scaler = StandardScaler()\n",
        "X = scaler.fit_transform(X)\n",
        "X"
      ],
      "metadata": {
        "id": "XCUrq1qhDV-5",
        "colab": {
          "base_uri": "https://localhost:8080/"
        },
        "outputId": "dfdf7f6a-6d6b-4802-add6-639fe05881a7"
      },
      "execution_count": 46,
      "outputs": [
        {
          "output_type": "execute_result",
          "data": {
            "text/plain": [
              "array([[-1.22054156,  1.23709673,  1.52727677, ..., -0.02560978,\n",
              "        -0.47735571, -0.17574991],\n",
              "       [ 1.74170906, -1.47544336, -0.46610148, ..., -0.02560978,\n",
              "        -0.47735571, -0.17574991],\n",
              "       [ 1.74170906, -0.53195115,  1.52727677, ..., -0.02560978,\n",
              "        -0.47735571, -0.17574991],\n",
              "       ...,\n",
              "       [-1.22054156,  1.59090631,  1.02893221, ..., -0.02560978,\n",
              "        -0.47735571, -0.17574991],\n",
              "       [-1.22054156, -1.47544336,  0.53058764, ..., -0.02560978,\n",
              "        -0.47735571, -0.17574991],\n",
              "       [ 1.74170906, -0.53195115,  0.03224308, ..., -0.02560978,\n",
              "        -0.47735571, -0.17574991]])"
            ]
          },
          "metadata": {},
          "execution_count": 46
        }
      ]
    },
    {
      "cell_type": "code",
      "source": [
        "'''\n",
        "Given that y.shape is (10680,), it is indeed a one-dimensional array. When dealing with regression problems and neural networks, the target y should be reshaped to a two-dimensional\n",
        " array, as the neural network expects the output to be in a shape like (batch_size, num_outputs) (where num_outputs is typically 1 for single-target regression).\n",
        "'''\n",
        "y=y.to_numpy()#series needs to be converted numpy ndarray as series has no attribute of reshape\n",
        "y = y.reshape((-1, 1))\n",
        "\n",
        "'''\n",
        "The reason why X does not need to be reshaped like y is related to how input and output data are handled differently in machine learning models, particularly in neural networks:\n",
        "\n",
        "1. Shape of X (Features) vs. y (Target/Labels):\n",
        "X (Input Features): X is typically a 2D array of shape (n_samples, n_features), where n_samples is the number of data points, and n_features is the number of features or input\n",
        "variables for each data point. The model expects this shape as input.\n",
        "y (Target/Labels): y, on the other hand, is a 1D array of shape (n_samples,) for a single-target regression (or classification) problem. Neural networks expect output data to have\n",
        "a 2D shape, such as (n_samples, 1), to represent a single target for each sample. This is why y needs to be reshaped.\n",
        "\n",
        "2. Why X Is Already in the Correct Shape:\n",
        "For Input (X): The feature matrix X is already in the correct shape of (n_samples, n_features). The neural network takes a 2D array as input, where each row corresponds to one data\n",
        " point and each column corresponds to a feature. So, there is no need to reshape X unless it's a 1D array (which is rarely the case for input features).\n",
        "For Output (y): The target variable y is typically 1D when you have one target per sample, i.e., (n_samples,). However, the neural network expects the output (target) to be 2D,\n",
        " i.e., (n_samples, 1). Hence, you need to reshape y.\n",
        "\n",
        "Example:\n",
        "Input (X):\n",
        "Shape: (10680, n_features) (e.g., (10680, 20) if you have 29 features).\n",
        "Each row represents one sample with 29 features.\n",
        "\n",
        "Target (y):\n",
        "Initial Shape: (10680,).\n",
        "After reshaping: (10680, 1), where each row represents the corresponding target value for the sample.\n",
        "'''"
      ],
      "metadata": {
        "id": "Cbwz_YdeuicI",
        "colab": {
          "base_uri": "https://localhost:8080/",
          "height": 140
        },
        "outputId": "ca04b004-1b70-4a03-ee36-577fb9a582fb"
      },
      "execution_count": 47,
      "outputs": [
        {
          "output_type": "execute_result",
          "data": {
            "text/plain": [
              "\"\\nThe reason why X does not need to be reshaped like y is related to how input and output data are handled differently in machine learning models, particularly in neural networks:\\n\\n1. Shape of X (Features) vs. y (Target/Labels):\\nX (Input Features): X is typically a 2D array of shape (n_samples, n_features), where n_samples is the number of data points, and n_features is the number of features or input\\nvariables for each data point. The model expects this shape as input.\\ny (Target/Labels): y, on the other hand, is a 1D array of shape (n_samples,) for a single-target regression (or classification) problem. Neural networks expect output data to have\\na 2D shape, such as (n_samples, 1), to represent a single target for each sample. This is why y needs to be reshaped.\\n\\n2. Why X Is Already in the Correct Shape:\\nFor Input (X): The feature matrix X is already in the correct shape of (n_samples, n_features). The neural network takes a 2D array as input, where each row corresponds to one data\\n point and each column corresponds to a feature. So, there is no need to reshape X unless it's a 1D array (which is rarely the case for input features).\\nFor Output (y): The target variable y is typically 1D when you have one target per sample, i.e., (n_samples,). However, the neural network expects the output (target) to be 2D,\\n i.e., (n_samples, 1). Hence, you need to reshape y.\\n\\nExample:\\nInput (X):\\nShape: (10680, n_features) (e.g., (10680, 20) if you have 29 features).\\nEach row represents one sample with 29 features.\\n\\nTarget (y):\\nInitial Shape: (10680,).\\nAfter reshaping: (10680, 1), where each row represents the corresponding target value for the sample.\\n\""
            ],
            "application/vnd.google.colaboratory.intrinsic+json": {
              "type": "string"
            }
          },
          "metadata": {},
          "execution_count": 47
        }
      ]
    },
    {
      "cell_type": "code",
      "source": [
        "y=scaler.fit_transform(y)\n",
        "y"
      ],
      "metadata": {
        "id": "adwyzJ_ttZip",
        "colab": {
          "base_uri": "https://localhost:8080/"
        },
        "outputId": "b73fad5b-5e32-400b-c9ab-202b50523805"
      },
      "execution_count": 48,
      "outputs": [
        {
          "output_type": "execute_result",
          "data": {
            "text/plain": [
              "array([[-1.12559122],\n",
              "       [-0.30903487],\n",
              "       [ 1.03996394],\n",
              "       ...,\n",
              "       [-0.40294427],\n",
              "       [ 0.77233299],\n",
              "       [ 0.57822464]])"
            ]
          },
          "metadata": {},
          "execution_count": 48
        }
      ]
    },
    {
      "cell_type": "code",
      "source": [
        "def create_model():\n",
        "    model = Sequential()\n",
        "    model.add(Dense(128, input_dim=X.shape[1], activation='relu'))\n",
        "    model.add(Dense(64, activation='relu', kernel_regularizer=l2(0.01)))\n",
        "    model.add(Dense(32, activation='relu', kernel_regularizer=l2(0.01)))\n",
        "    model.add(Dropout(0.2))\n",
        "    model.add(Dense(1, activation='linear'))\n",
        "    model.compile(optimizer='adam', loss='mean_squared_error', metrics=['mean_absolute_error'])\n",
        "    return model\n",
        "'''\n",
        "Components Explained:\n",
        "Model Architecture:\n",
        "\n",
        "Sequential Model:\n",
        "\n",
        "model = Sequential(): This initializes a sequential model, where layers are stacked on top of each other in a linear fashion.\n",
        "Input Layer:\n",
        "\n",
        "model.add(Dense(128, input_dim=X.shape[1], activation='relu')):\n",
        "Dense(128, ...): A fully connected layer with 128 neurons.\n",
        "input_dim=X.shape[1]: The number of input features, which is set to the number of columns in X.\n",
        "activation='relu': The ReLU activation function is used, which introduces non-linearity into the model.\n",
        "Hidden Layers:\n",
        "\n",
        "model.add(Dense(64, activation='relu', kernel_regularizer=l2(0.01))):\n",
        "Another fully connected layer with 64 neurons and ReLU activation.\n",
        "kernel_regularizer=l2(0.01): Adds L2 regularization to the layer, penalizing large weights with a regularization strength of 0.01.\n",
        "model.add(Dense(32, activation='relu', kernel_regularizer=l2(0.01))):\n",
        "Another fully connected layer with 32 neurons, ReLU activation, and L2 regularization.\n",
        "Dropout Layer:\n",
        "\n",
        "model.add(Dropout(0.2)):\n",
        "Dropout is applied with a dropout rate of 0.2, meaning 20% of the neurons in the layer will be randomly dropped during training to prevent overfitting.\n",
        "Output Layer:\n",
        "\n",
        "model.add(Dense(1, activation='linear')):\n",
        "The output layer with 1 neuron (for regression tasks), and a linear activation function, which is appropriate for predicting continuous values.\n",
        "'''\n",
        "'''\n",
        "Reguralarization:\n",
        "L2 Regularization:\n",
        "In this example, L2 regularization is applied to the dense layers by setting the kernel_regularizer argument to regularizers.l2(0.001). This adds a penalty proportional to the\n",
        "square of the weights.\n",
        "\n",
        "L1 Regularization:\n",
        "You can change regularizers.l2() to regularizers.l1() if you want to implement L1 regularization, which adds a penalty proportional to the absolute value of the weights.\n",
        "\n",
        "L1 and L2 Combined (Elastic Net):\n",
        "If you want to combine L1 and L2 regularization (Elastic Net), use regularizers.l1_l2(l1=0.001, l2=0.001).\n",
        "'''"
      ],
      "metadata": {
        "id": "GdUR_ZtkET_J",
        "colab": {
          "base_uri": "https://localhost:8080/",
          "height": 87
        },
        "outputId": "d4af8215-c925-4e5e-f95c-648c5548f557"
      },
      "execution_count": 49,
      "outputs": [
        {
          "output_type": "execute_result",
          "data": {
            "text/plain": [
              "'\\nReguralarization:\\nL2 Regularization:\\nIn this example, L2 regularization is applied to the dense layers by setting the kernel_regularizer argument to regularizers.l2(0.001). This adds a penalty proportional to the\\nsquare of the weights.\\n\\nL1 Regularization:\\nYou can change regularizers.l2() to regularizers.l1() if you want to implement L1 regularization, which adds a penalty proportional to the absolute value of the weights.\\n\\nL1 and L2 Combined (Elastic Net):\\nIf you want to combine L1 and L2 regularization (Elastic Net), use regularizers.l1_l2(l1=0.001, l2=0.001).\\n'"
            ],
            "application/vnd.google.colaboratory.intrinsic+json": {
              "type": "string"
            }
          },
          "metadata": {},
          "execution_count": 49
        }
      ]
    },
    {
      "cell_type": "code",
      "source": [
        "# Define K-Fold cross-validation\n",
        "kf = KFold(n_splits=5, shuffle=True, random_state=42)\n",
        "\n",
        "# To store the results\n",
        "fold_r2_score = []\n",
        "\n",
        "# Perform K-Fold Cross-Validation\n",
        "for train_index, test_index in kf.split(X):\n",
        "    # Split data into training and testing sets\n",
        "    X_train, X_test = X[train_index], X[test_index]\n",
        "    y_train, y_test = y[train_index], y[test_index]\n",
        "\n",
        "    # Create a new model instance for each fold\n",
        "    model = create_model()\n",
        "    # early_stopping = EarlyStopping(monitor='val_loss', patience=10, restore_best_weights=True)\n",
        "    # Train the model\n",
        "    model.fit(X_train, y_train, epochs=100, batch_size=32, verbose=0)\n",
        "\n",
        "    # Evaluate the model\n",
        "    y_pred = model.predict(X_test)\n",
        "    r_square = r2_score(y_test, y_pred)\n",
        "    fold_r2_score.append(r_square)\n",
        "    print(f\"Fold R Square: {r_square:.4f}\")\n",
        "\n",
        "# Calculate and print the average accuracy across all folds\n",
        "average_r2_score = np.mean(fold_r2_score)\n",
        "print(f\"\\nAverage R Square across all folds: {average_r2_score:.4f}\")\n",
        "\n"
      ],
      "metadata": {
        "id": "nazDgi_qq1Mb",
        "colab": {
          "base_uri": "https://localhost:8080/"
        },
        "outputId": "f50bed4f-0f33-467a-d24b-915730cb7549"
      },
      "execution_count": 50,
      "outputs": [
        {
          "output_type": "stream",
          "name": "stderr",
          "text": [
            "/usr/local/lib/python3.10/dist-packages/keras/src/layers/core/dense.py:87: UserWarning: Do not pass an `input_shape`/`input_dim` argument to a layer. When using Sequential models, prefer using an `Input(shape)` object as the first layer in the model instead.\n",
            "  super().__init__(activity_regularizer=activity_regularizer, **kwargs)\n"
          ]
        },
        {
          "output_type": "stream",
          "name": "stdout",
          "text": [
            "\u001b[1m67/67\u001b[0m \u001b[32m━━━━━━━━━━━━━━━━━━━━\u001b[0m\u001b[37m\u001b[0m \u001b[1m0s\u001b[0m 2ms/step\n",
            "Fold R Square: 0.7695\n"
          ]
        },
        {
          "output_type": "stream",
          "name": "stderr",
          "text": [
            "/usr/local/lib/python3.10/dist-packages/keras/src/layers/core/dense.py:87: UserWarning: Do not pass an `input_shape`/`input_dim` argument to a layer. When using Sequential models, prefer using an `Input(shape)` object as the first layer in the model instead.\n",
            "  super().__init__(activity_regularizer=activity_regularizer, **kwargs)\n"
          ]
        },
        {
          "output_type": "stream",
          "name": "stdout",
          "text": [
            "\u001b[1m67/67\u001b[0m \u001b[32m━━━━━━━━━━━━━━━━━━━━\u001b[0m\u001b[37m\u001b[0m \u001b[1m0s\u001b[0m 2ms/step\n",
            "Fold R Square: 0.8582\n"
          ]
        },
        {
          "output_type": "stream",
          "name": "stderr",
          "text": [
            "/usr/local/lib/python3.10/dist-packages/keras/src/layers/core/dense.py:87: UserWarning: Do not pass an `input_shape`/`input_dim` argument to a layer. When using Sequential models, prefer using an `Input(shape)` object as the first layer in the model instead.\n",
            "  super().__init__(activity_regularizer=activity_regularizer, **kwargs)\n"
          ]
        },
        {
          "output_type": "stream",
          "name": "stdout",
          "text": [
            "\u001b[1m67/67\u001b[0m \u001b[32m━━━━━━━━━━━━━━━━━━━━\u001b[0m\u001b[37m\u001b[0m \u001b[1m0s\u001b[0m 2ms/step\n",
            "Fold R Square: 0.8262\n"
          ]
        },
        {
          "output_type": "stream",
          "name": "stderr",
          "text": [
            "/usr/local/lib/python3.10/dist-packages/keras/src/layers/core/dense.py:87: UserWarning: Do not pass an `input_shape`/`input_dim` argument to a layer. When using Sequential models, prefer using an `Input(shape)` object as the first layer in the model instead.\n",
            "  super().__init__(activity_regularizer=activity_regularizer, **kwargs)\n"
          ]
        },
        {
          "output_type": "stream",
          "name": "stdout",
          "text": [
            "\u001b[1m67/67\u001b[0m \u001b[32m━━━━━━━━━━━━━━━━━━━━\u001b[0m\u001b[37m\u001b[0m \u001b[1m0s\u001b[0m 3ms/step\n",
            "Fold R Square: 0.7977\n"
          ]
        },
        {
          "output_type": "stream",
          "name": "stderr",
          "text": [
            "/usr/local/lib/python3.10/dist-packages/keras/src/layers/core/dense.py:87: UserWarning: Do not pass an `input_shape`/`input_dim` argument to a layer. When using Sequential models, prefer using an `Input(shape)` object as the first layer in the model instead.\n",
            "  super().__init__(activity_regularizer=activity_regularizer, **kwargs)\n"
          ]
        },
        {
          "output_type": "stream",
          "name": "stdout",
          "text": [
            "\u001b[1m67/67\u001b[0m \u001b[32m━━━━━━━━━━━━━━━━━━━━\u001b[0m\u001b[37m\u001b[0m \u001b[1m0s\u001b[0m 2ms/step\n",
            "Fold R Square: 0.8498\n",
            "\n",
            "Average R Square across all folds: 0.8203\n"
          ]
        }
      ]
    },
    {
      "cell_type": "code",
      "source": [
        "'''\n",
        "The 67/67 refers to the number of batches that your model processes when making predictions on the test set. In this case:\n",
        "\n",
        "Your dataset length is 10,680, and since you're using 5-fold cross-validation, each fold has roughly 1/5th of the data (approximately 2,176 samples for testing in each fold).\n",
        "By default, Keras splits the data into batches when performing training or predictions, and the default batch size is 32. Therefore, to process all the data in the test set, Keras will divide the number of samples by the batch size.\n",
        "For example:\n",
        "\n",
        "If the number of test samples is ~2,136 and the batch size is 32, then:\n",
        "\n",
        "Number of batches\n",
        "=\n",
        "2136/32\n",
        "\n",
        "=\n",
        "67\n",
        " (roughly)\n",
        "\n",
        "However, depending on how the data splits, Keras might end up using slightly fewer batches (like 67) due to rounding or small variations in the fold sizes.\n",
        "\n",
        "So, 67/67 means that Keras processed 67 batches of data for that fold during the prediction phase.\n",
        "'''"
      ],
      "metadata": {
        "id": "U0HRp5Fzxxir",
        "colab": {
          "base_uri": "https://localhost:8080/",
          "height": 122
        },
        "outputId": "557357d9-994c-4317-f5e6-ca2b6b63563c"
      },
      "execution_count": 51,
      "outputs": [
        {
          "output_type": "execute_result",
          "data": {
            "text/plain": [
              "\"\\nThe 67/67 refers to the number of batches that your model processes when making predictions on the test set. In this case:\\n\\nYour dataset length is 10,680, and since you're using 5-fold cross-validation, each fold has roughly 1/5th of the data (approximately 2,176 samples for testing in each fold).\\nBy default, Keras splits the data into batches when performing training or predictions, and the default batch size is 32. Therefore, to process all the data in the test set, Keras will divide the number of samples by the batch size.\\nFor example:\\n\\nIf the number of test samples is ~2,136 and the batch size is 32, then:\\n\\nNumber\\xa0of\\xa0batches\\n=\\n2136/32\\n\\n=\\n67\\n\\xa0(roughly)\\n\\nHowever, depending on how the data splits, Keras might end up using slightly fewer batches (like 67) due to rounding or small variations in the fold sizes.\\n\\nSo, 67/67 means that Keras processed 67 batches of data for that fold during the prediction phase.\\n\""
            ],
            "application/vnd.google.colaboratory.intrinsic+json": {
              "type": "string"
            }
          },
          "metadata": {},
          "execution_count": 51
        }
      ]
    }
  ]
}